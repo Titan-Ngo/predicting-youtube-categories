{
 "cells": [
  {
   "cell_type": "code",
   "execution_count": 1,
   "metadata": {},
   "outputs": [],
   "source": [
    "import numpy as np\n",
    "import pandas as pd\n",
    "import matplotlib.pyplot as plt\n",
    "import seaborn as sns\n",
    "from collections import Counter\n",
    "from collections import defaultdict\n",
    "import string\n",
    "from seaborn import violinplot"
   ]
  },
  {
   "cell_type": "code",
   "execution_count": 2,
   "metadata": {},
   "outputs": [
    {
     "name": "stderr",
     "output_type": "stream",
     "text": [
      "[nltk_data] Downloading package stopwords to\n",
      "[nltk_data]     C:\\Users\\t\\AppData\\Roaming\\nltk_data...\n",
      "[nltk_data]   Package stopwords is already up-to-date!\n"
     ]
    }
   ],
   "source": [
    "import nltk\n",
    "nltk.download('stopwords')\n",
    "from nltk.corpus import stopwords  "
   ]
  },
  {
   "cell_type": "code",
   "execution_count": 3,
   "metadata": {},
   "outputs": [],
   "source": [
    "# read csv\n",
    "df_CA = pd.read_csv(\"CAvideos.csv\")\n",
    "df_US = pd.read_csv(\"USvideos.csv\")\n",
    "df_GB = pd.read_csv(\"GBvideos.csv\")"
   ]
  },
  {
   "cell_type": "code",
   "execution_count": 4,
   "metadata": {},
   "outputs": [
    {
     "data": {
      "text/html": [
       "<div>\n",
       "<style scoped>\n",
       "    .dataframe tbody tr th:only-of-type {\n",
       "        vertical-align: middle;\n",
       "    }\n",
       "\n",
       "    .dataframe tbody tr th {\n",
       "        vertical-align: top;\n",
       "    }\n",
       "\n",
       "    .dataframe thead th {\n",
       "        text-align: right;\n",
       "    }\n",
       "</style>\n",
       "<table border=\"1\" class=\"dataframe\">\n",
       "  <thead>\n",
       "    <tr style=\"text-align: right;\">\n",
       "      <th></th>\n",
       "      <th>video_id</th>\n",
       "      <th>trending_date</th>\n",
       "      <th>title</th>\n",
       "      <th>channel_title</th>\n",
       "      <th>category_id</th>\n",
       "      <th>publish_time</th>\n",
       "      <th>tags</th>\n",
       "      <th>views</th>\n",
       "      <th>likes</th>\n",
       "      <th>dislikes</th>\n",
       "      <th>comment_count</th>\n",
       "      <th>thumbnail_link</th>\n",
       "      <th>comments_disabled</th>\n",
       "      <th>ratings_disabled</th>\n",
       "      <th>video_error_or_removed</th>\n",
       "      <th>description</th>\n",
       "    </tr>\n",
       "  </thead>\n",
       "  <tbody>\n",
       "    <tr>\n",
       "      <th>0</th>\n",
       "      <td>n1WpP7iowLc</td>\n",
       "      <td>17.14.11</td>\n",
       "      <td>Eminem - Walk On Water (Audio) ft. Beyoncé</td>\n",
       "      <td>EminemVEVO</td>\n",
       "      <td>10</td>\n",
       "      <td>2017-11-10T17:00:03.000Z</td>\n",
       "      <td>Eminem|\"Walk\"|\"On\"|\"Water\"|\"Aftermath/Shady/In...</td>\n",
       "      <td>17158579</td>\n",
       "      <td>787425</td>\n",
       "      <td>43420</td>\n",
       "      <td>125882</td>\n",
       "      <td>https://i.ytimg.com/vi/n1WpP7iowLc/default.jpg</td>\n",
       "      <td>False</td>\n",
       "      <td>False</td>\n",
       "      <td>False</td>\n",
       "      <td>Eminem's new track Walk on Water ft. Beyoncé i...</td>\n",
       "    </tr>\n",
       "    <tr>\n",
       "      <th>1</th>\n",
       "      <td>0dBIkQ4Mz1M</td>\n",
       "      <td>17.14.11</td>\n",
       "      <td>PLUSH - Bad Unboxing Fan Mail</td>\n",
       "      <td>iDubbbzTV</td>\n",
       "      <td>23</td>\n",
       "      <td>2017-11-13T17:00:00.000Z</td>\n",
       "      <td>plush|\"bad unboxing\"|\"unboxing\"|\"fan mail\"|\"id...</td>\n",
       "      <td>1014651</td>\n",
       "      <td>127794</td>\n",
       "      <td>1688</td>\n",
       "      <td>13030</td>\n",
       "      <td>https://i.ytimg.com/vi/0dBIkQ4Mz1M/default.jpg</td>\n",
       "      <td>False</td>\n",
       "      <td>False</td>\n",
       "      <td>False</td>\n",
       "      <td>STill got a lot of packages. Probably will las...</td>\n",
       "    </tr>\n",
       "    <tr>\n",
       "      <th>2</th>\n",
       "      <td>5qpjK5DgCt4</td>\n",
       "      <td>17.14.11</td>\n",
       "      <td>Racist Superman | Rudy Mancuso, King Bach &amp; Le...</td>\n",
       "      <td>Rudy Mancuso</td>\n",
       "      <td>23</td>\n",
       "      <td>2017-11-12T19:05:24.000Z</td>\n",
       "      <td>racist superman|\"rudy\"|\"mancuso\"|\"king\"|\"bach\"...</td>\n",
       "      <td>3191434</td>\n",
       "      <td>146035</td>\n",
       "      <td>5339</td>\n",
       "      <td>8181</td>\n",
       "      <td>https://i.ytimg.com/vi/5qpjK5DgCt4/default.jpg</td>\n",
       "      <td>False</td>\n",
       "      <td>False</td>\n",
       "      <td>False</td>\n",
       "      <td>WATCH MY PREVIOUS VIDEO ▶ \\n\\nSUBSCRIBE ► http...</td>\n",
       "    </tr>\n",
       "    <tr>\n",
       "      <th>3</th>\n",
       "      <td>d380meD0W0M</td>\n",
       "      <td>17.14.11</td>\n",
       "      <td>I Dare You: GOING BALD!?</td>\n",
       "      <td>nigahiga</td>\n",
       "      <td>24</td>\n",
       "      <td>2017-11-12T18:01:41.000Z</td>\n",
       "      <td>ryan|\"higa\"|\"higatv\"|\"nigahiga\"|\"i dare you\"|\"...</td>\n",
       "      <td>2095828</td>\n",
       "      <td>132239</td>\n",
       "      <td>1989</td>\n",
       "      <td>17518</td>\n",
       "      <td>https://i.ytimg.com/vi/d380meD0W0M/default.jpg</td>\n",
       "      <td>False</td>\n",
       "      <td>False</td>\n",
       "      <td>False</td>\n",
       "      <td>I know it's been a while since we did this sho...</td>\n",
       "    </tr>\n",
       "    <tr>\n",
       "      <th>4</th>\n",
       "      <td>2Vv-BfVoq4g</td>\n",
       "      <td>17.14.11</td>\n",
       "      <td>Ed Sheeran - Perfect (Official Music Video)</td>\n",
       "      <td>Ed Sheeran</td>\n",
       "      <td>10</td>\n",
       "      <td>2017-11-09T11:04:14.000Z</td>\n",
       "      <td>edsheeran|\"ed sheeran\"|\"acoustic\"|\"live\"|\"cove...</td>\n",
       "      <td>33523622</td>\n",
       "      <td>1634130</td>\n",
       "      <td>21082</td>\n",
       "      <td>85067</td>\n",
       "      <td>https://i.ytimg.com/vi/2Vv-BfVoq4g/default.jpg</td>\n",
       "      <td>False</td>\n",
       "      <td>False</td>\n",
       "      <td>False</td>\n",
       "      <td>🎧: https://ad.gt/yt-perfect\\n💰: https://atlant...</td>\n",
       "    </tr>\n",
       "    <tr>\n",
       "      <th>...</th>\n",
       "      <td>...</td>\n",
       "      <td>...</td>\n",
       "      <td>...</td>\n",
       "      <td>...</td>\n",
       "      <td>...</td>\n",
       "      <td>...</td>\n",
       "      <td>...</td>\n",
       "      <td>...</td>\n",
       "      <td>...</td>\n",
       "      <td>...</td>\n",
       "      <td>...</td>\n",
       "      <td>...</td>\n",
       "      <td>...</td>\n",
       "      <td>...</td>\n",
       "      <td>...</td>\n",
       "      <td>...</td>\n",
       "    </tr>\n",
       "    <tr>\n",
       "      <th>40876</th>\n",
       "      <td>sGolxsMSGfQ</td>\n",
       "      <td>18.14.06</td>\n",
       "      <td>HOW2: How to Solve a Mystery</td>\n",
       "      <td>Annoying Orange</td>\n",
       "      <td>24</td>\n",
       "      <td>2018-06-13T18:00:07.000Z</td>\n",
       "      <td>annoying orange|\"funny\"|\"fruit\"|\"talking\"|\"ani...</td>\n",
       "      <td>80685</td>\n",
       "      <td>1701</td>\n",
       "      <td>99</td>\n",
       "      <td>1312</td>\n",
       "      <td>https://i.ytimg.com/vi/sGolxsMSGfQ/default.jpg</td>\n",
       "      <td>False</td>\n",
       "      <td>False</td>\n",
       "      <td>False</td>\n",
       "      <td>🚨 NEW MERCH! http://amzn.to/annoyingorange 🚨➤ ...</td>\n",
       "    </tr>\n",
       "    <tr>\n",
       "      <th>40877</th>\n",
       "      <td>8HNuRNi8t70</td>\n",
       "      <td>18.14.06</td>\n",
       "      <td>Eli Lik Lik Episode 13 Partie 01</td>\n",
       "      <td>Elhiwar Ettounsi</td>\n",
       "      <td>24</td>\n",
       "      <td>2018-06-13T19:01:18.000Z</td>\n",
       "      <td>hkayet tounsia|\"elhiwar ettounsi\"|\"denya okhra...</td>\n",
       "      <td>103339</td>\n",
       "      <td>460</td>\n",
       "      <td>66</td>\n",
       "      <td>51</td>\n",
       "      <td>https://i.ytimg.com/vi/8HNuRNi8t70/default.jpg</td>\n",
       "      <td>False</td>\n",
       "      <td>False</td>\n",
       "      <td>False</td>\n",
       "      <td>► Retrouvez vos programmes préférés : https://...</td>\n",
       "    </tr>\n",
       "    <tr>\n",
       "      <th>40878</th>\n",
       "      <td>GWlKEM3m2EE</td>\n",
       "      <td>18.14.06</td>\n",
       "      <td>KINGDOM HEARTS III – SQUARE ENIX E3 SHOWCASE 2...</td>\n",
       "      <td>Kingdom Hearts</td>\n",
       "      <td>20</td>\n",
       "      <td>2018-06-11T17:30:53.000Z</td>\n",
       "      <td>Kingdom Hearts|\"KH3\"|\"Kingdom Hearts 3\"|\"Froze...</td>\n",
       "      <td>773347</td>\n",
       "      <td>25900</td>\n",
       "      <td>224</td>\n",
       "      <td>3881</td>\n",
       "      <td>https://i.ytimg.com/vi/GWlKEM3m2EE/default.jpg</td>\n",
       "      <td>False</td>\n",
       "      <td>False</td>\n",
       "      <td>False</td>\n",
       "      <td>Find out more about Kingdom Hearts 3: https://...</td>\n",
       "    </tr>\n",
       "    <tr>\n",
       "      <th>40879</th>\n",
       "      <td>lbMKLzQ4cNQ</td>\n",
       "      <td>18.14.06</td>\n",
       "      <td>Trump Advisor Grovels To Trudeau</td>\n",
       "      <td>The Young Turks</td>\n",
       "      <td>25</td>\n",
       "      <td>2018-06-13T04:00:05.000Z</td>\n",
       "      <td>180612__TB02SorryExcuse|\"News\"|\"Politics\"|\"The...</td>\n",
       "      <td>115225</td>\n",
       "      <td>2115</td>\n",
       "      <td>182</td>\n",
       "      <td>1672</td>\n",
       "      <td>https://i.ytimg.com/vi/lbMKLzQ4cNQ/default.jpg</td>\n",
       "      <td>False</td>\n",
       "      <td>False</td>\n",
       "      <td>False</td>\n",
       "      <td>Peter Navarro isn’t talking so tough now. Ana ...</td>\n",
       "    </tr>\n",
       "    <tr>\n",
       "      <th>40880</th>\n",
       "      <td>POTgw38-m58</td>\n",
       "      <td>18.14.06</td>\n",
       "      <td>【完整版】遇到恐怖情人該怎麼辦？2018.06.13小明星大跟班</td>\n",
       "      <td>我愛小明星大跟班</td>\n",
       "      <td>24</td>\n",
       "      <td>2018-06-13T16:00:03.000Z</td>\n",
       "      <td>吳宗憲|\"吳姍儒\"|\"小明星大跟班\"|\"Sandy\"|\"Jacky wu\"|\"憲哥\"|\"中天...</td>\n",
       "      <td>107392</td>\n",
       "      <td>300</td>\n",
       "      <td>62</td>\n",
       "      <td>251</td>\n",
       "      <td>https://i.ytimg.com/vi/POTgw38-m58/default.jpg</td>\n",
       "      <td>False</td>\n",
       "      <td>False</td>\n",
       "      <td>False</td>\n",
       "      <td>藝人：李妍瑾、玉兔、班傑、LaLa、小優、少少專家：陳筱屏(律師)、Wendy(心理師)、羅...</td>\n",
       "    </tr>\n",
       "  </tbody>\n",
       "</table>\n",
       "<p>40881 rows × 16 columns</p>\n",
       "</div>"
      ],
      "text/plain": [
       "          video_id trending_date  \\\n",
       "0      n1WpP7iowLc      17.14.11   \n",
       "1      0dBIkQ4Mz1M      17.14.11   \n",
       "2      5qpjK5DgCt4      17.14.11   \n",
       "3      d380meD0W0M      17.14.11   \n",
       "4      2Vv-BfVoq4g      17.14.11   \n",
       "...            ...           ...   \n",
       "40876  sGolxsMSGfQ      18.14.06   \n",
       "40877  8HNuRNi8t70      18.14.06   \n",
       "40878  GWlKEM3m2EE      18.14.06   \n",
       "40879  lbMKLzQ4cNQ      18.14.06   \n",
       "40880  POTgw38-m58      18.14.06   \n",
       "\n",
       "                                                   title     channel_title  \\\n",
       "0             Eminem - Walk On Water (Audio) ft. Beyoncé        EminemVEVO   \n",
       "1                          PLUSH - Bad Unboxing Fan Mail         iDubbbzTV   \n",
       "2      Racist Superman | Rudy Mancuso, King Bach & Le...      Rudy Mancuso   \n",
       "3                               I Dare You: GOING BALD!?          nigahiga   \n",
       "4            Ed Sheeran - Perfect (Official Music Video)        Ed Sheeran   \n",
       "...                                                  ...               ...   \n",
       "40876                       HOW2: How to Solve a Mystery   Annoying Orange   \n",
       "40877                   Eli Lik Lik Episode 13 Partie 01  Elhiwar Ettounsi   \n",
       "40878  KINGDOM HEARTS III – SQUARE ENIX E3 SHOWCASE 2...    Kingdom Hearts   \n",
       "40879                   Trump Advisor Grovels To Trudeau   The Young Turks   \n",
       "40880                   【完整版】遇到恐怖情人該怎麼辦？2018.06.13小明星大跟班          我愛小明星大跟班   \n",
       "\n",
       "       category_id              publish_time  \\\n",
       "0               10  2017-11-10T17:00:03.000Z   \n",
       "1               23  2017-11-13T17:00:00.000Z   \n",
       "2               23  2017-11-12T19:05:24.000Z   \n",
       "3               24  2017-11-12T18:01:41.000Z   \n",
       "4               10  2017-11-09T11:04:14.000Z   \n",
       "...            ...                       ...   \n",
       "40876           24  2018-06-13T18:00:07.000Z   \n",
       "40877           24  2018-06-13T19:01:18.000Z   \n",
       "40878           20  2018-06-11T17:30:53.000Z   \n",
       "40879           25  2018-06-13T04:00:05.000Z   \n",
       "40880           24  2018-06-13T16:00:03.000Z   \n",
       "\n",
       "                                                    tags     views    likes  \\\n",
       "0      Eminem|\"Walk\"|\"On\"|\"Water\"|\"Aftermath/Shady/In...  17158579   787425   \n",
       "1      plush|\"bad unboxing\"|\"unboxing\"|\"fan mail\"|\"id...   1014651   127794   \n",
       "2      racist superman|\"rudy\"|\"mancuso\"|\"king\"|\"bach\"...   3191434   146035   \n",
       "3      ryan|\"higa\"|\"higatv\"|\"nigahiga\"|\"i dare you\"|\"...   2095828   132239   \n",
       "4      edsheeran|\"ed sheeran\"|\"acoustic\"|\"live\"|\"cove...  33523622  1634130   \n",
       "...                                                  ...       ...      ...   \n",
       "40876  annoying orange|\"funny\"|\"fruit\"|\"talking\"|\"ani...     80685     1701   \n",
       "40877  hkayet tounsia|\"elhiwar ettounsi\"|\"denya okhra...    103339      460   \n",
       "40878  Kingdom Hearts|\"KH3\"|\"Kingdom Hearts 3\"|\"Froze...    773347    25900   \n",
       "40879  180612__TB02SorryExcuse|\"News\"|\"Politics\"|\"The...    115225     2115   \n",
       "40880  吳宗憲|\"吳姍儒\"|\"小明星大跟班\"|\"Sandy\"|\"Jacky wu\"|\"憲哥\"|\"中天...    107392      300   \n",
       "\n",
       "       dislikes  comment_count  \\\n",
       "0         43420         125882   \n",
       "1          1688          13030   \n",
       "2          5339           8181   \n",
       "3          1989          17518   \n",
       "4         21082          85067   \n",
       "...         ...            ...   \n",
       "40876        99           1312   \n",
       "40877        66             51   \n",
       "40878       224           3881   \n",
       "40879       182           1672   \n",
       "40880        62            251   \n",
       "\n",
       "                                       thumbnail_link  comments_disabled  \\\n",
       "0      https://i.ytimg.com/vi/n1WpP7iowLc/default.jpg              False   \n",
       "1      https://i.ytimg.com/vi/0dBIkQ4Mz1M/default.jpg              False   \n",
       "2      https://i.ytimg.com/vi/5qpjK5DgCt4/default.jpg              False   \n",
       "3      https://i.ytimg.com/vi/d380meD0W0M/default.jpg              False   \n",
       "4      https://i.ytimg.com/vi/2Vv-BfVoq4g/default.jpg              False   \n",
       "...                                               ...                ...   \n",
       "40876  https://i.ytimg.com/vi/sGolxsMSGfQ/default.jpg              False   \n",
       "40877  https://i.ytimg.com/vi/8HNuRNi8t70/default.jpg              False   \n",
       "40878  https://i.ytimg.com/vi/GWlKEM3m2EE/default.jpg              False   \n",
       "40879  https://i.ytimg.com/vi/lbMKLzQ4cNQ/default.jpg              False   \n",
       "40880  https://i.ytimg.com/vi/POTgw38-m58/default.jpg              False   \n",
       "\n",
       "       ratings_disabled  video_error_or_removed  \\\n",
       "0                 False                   False   \n",
       "1                 False                   False   \n",
       "2                 False                   False   \n",
       "3                 False                   False   \n",
       "4                 False                   False   \n",
       "...                 ...                     ...   \n",
       "40876             False                   False   \n",
       "40877             False                   False   \n",
       "40878             False                   False   \n",
       "40879             False                   False   \n",
       "40880             False                   False   \n",
       "\n",
       "                                             description  \n",
       "0      Eminem's new track Walk on Water ft. Beyoncé i...  \n",
       "1      STill got a lot of packages. Probably will las...  \n",
       "2      WATCH MY PREVIOUS VIDEO ▶ \\n\\nSUBSCRIBE ► http...  \n",
       "3      I know it's been a while since we did this sho...  \n",
       "4      🎧: https://ad.gt/yt-perfect\\n💰: https://atlant...  \n",
       "...                                                  ...  \n",
       "40876  🚨 NEW MERCH! http://amzn.to/annoyingorange 🚨➤ ...  \n",
       "40877  ► Retrouvez vos programmes préférés : https://...  \n",
       "40878  Find out more about Kingdom Hearts 3: https://...  \n",
       "40879  Peter Navarro isn’t talking so tough now. Ana ...  \n",
       "40880  藝人：李妍瑾、玉兔、班傑、LaLa、小優、少少專家：陳筱屏(律師)、Wendy(心理師)、羅...  \n",
       "\n",
       "[40881 rows x 16 columns]"
      ]
     },
     "execution_count": 4,
     "metadata": {},
     "output_type": "execute_result"
    }
   ],
   "source": [
    "df_CA"
   ]
  },
  {
   "cell_type": "code",
   "execution_count": 5,
   "metadata": {},
   "outputs": [
    {
     "name": "stdout",
     "output_type": "stream",
     "text": [
      "['video_id', 'trending_date', 'title', 'channel_title', 'category_id', 'publish_time', 'tags', 'views', 'likes', 'dislikes', 'comment_count', 'thumbnail_link', 'comments_disabled', 'ratings_disabled', 'video_error_or_removed', 'description']\n"
     ]
    }
   ],
   "source": [
    "print(list(df_CA.columns.values))"
   ]
  },
  {
   "cell_type": "code",
   "execution_count": 6,
   "metadata": {},
   "outputs": [
    {
     "name": "stdout",
     "output_type": "stream",
     "text": [
      "40881 40949 38916\n"
     ]
    }
   ],
   "source": [
    "print(len(df_CA), len(df_US), len(df_GB))"
   ]
  },
  {
   "cell_type": "code",
   "execution_count": 7,
   "metadata": {},
   "outputs": [
    {
     "data": {
      "text/plain": [
       "120746"
      ]
     },
     "execution_count": 7,
     "metadata": {},
     "output_type": "execute_result"
    }
   ],
   "source": [
    "df = pd.concat([df_CA , df_US, df_GB])\n",
    "len(df)"
   ]
  },
  {
   "cell_type": "code",
   "execution_count": 8,
   "metadata": {},
   "outputs": [],
   "source": [
    "# only keep ['video_id', 'title', 'channel_title', 'category_id', 'description']\n",
    "df = df[['video_id', 'title', 'category_id', 'tags','views', 'likes', 'dislikes','description']]"
   ]
  },
  {
   "cell_type": "code",
   "execution_count": 9,
   "metadata": {},
   "outputs": [
    {
     "name": "stdout",
     "output_type": "stream",
     "text": [
      "video_id --> 0\n",
      "title --> 0\n",
      "category_id --> 0\n",
      "tags --> 0\n",
      "views --> 0\n",
      "likes --> 0\n",
      "dislikes --> 0\n",
      "description --> 2478\n"
     ]
    }
   ],
   "source": [
    "# display nans\n",
    "for feat in ['video_id', 'title', 'category_id', 'tags','views', 'likes', 'dislikes','description']:\n",
    "    print(\"{} --> {}\".format(feat, df[feat].isna().sum()))"
   ]
  },
  {
   "cell_type": "code",
   "execution_count": 10,
   "metadata": {},
   "outputs": [
    {
     "data": {
      "text/plain": [
       "118268"
      ]
     },
     "execution_count": 10,
     "metadata": {},
     "output_type": "execute_result"
    }
   ],
   "source": [
    "# remove nans\n",
    "df = df.dropna()\n",
    "len(df)"
   ]
  },
  {
   "cell_type": "markdown",
   "metadata": {},
   "source": [
    "Identify a dataset to study, and perform an exploratory analysis of the data. Describe the dataset,\n",
    "including its basic statistics and properties, and report any interesting findings. This exploratory analysis\n",
    "should motivate the design of your model in the following sections"
   ]
  },
  {
   "cell_type": "markdown",
   "metadata": {},
   "source": [
    "## Category ID"
   ]
  },
  {
   "cell_type": "code",
   "execution_count": 11,
   "metadata": {
    "scrolled": true
   },
   "outputs": [
    {
     "data": {
      "text/plain": [
       "Text(0.5, 1.0, 'Distribution of Category IDs')"
      ]
     },
     "execution_count": 11,
     "metadata": {},
     "output_type": "execute_result"
    },
    {
     "data": {
      "image/png": "[encoded data removed]",
      "text/plain": [
       "<Figure size 720x360 with 1 Axes>"
      ]
     },
     "metadata": {
      "needs_background": "light"
     },
     "output_type": "display_data"
    }
   ],
   "source": [
    "df['category_id'].plot.hist(bins = 60, figsize=(10,5))\n",
    "\n",
    "\n",
    "plt.xticks(range(0, max(df['category_id']), 2))\n",
    "\n",
    "\n",
    "plt.xlabel('Category IDs', fontsize=15)\n",
    "plt.ylabel('Frequency', fontsize=15)\n",
    "plt.title('Distribution of Category IDs', fontsize=15)"
   ]
  },
  {
   "cell_type": "code",
   "execution_count": 12,
   "metadata": {},
   "outputs": [
    {
     "data": {
      "text/plain": [
       "118268"
      ]
     },
     "execution_count": 12,
     "metadata": {},
     "output_type": "execute_result"
    }
   ],
   "source": [
    "cat_list = df['category_id'].to_list()\n",
    "len(cat_list)"
   ]
  },
  {
   "cell_type": "code",
   "execution_count": 13,
   "metadata": {},
   "outputs": [
    {
     "data": {
      "text/plain": [
       "17"
      ]
     },
     "execution_count": 13,
     "metadata": {},
     "output_type": "execute_result"
    }
   ],
   "source": [
    "cat_counter = Counter(cat_list)\n",
    "len(cat_counter.keys())"
   ]
  },
  {
   "cell_type": "code",
   "execution_count": 14,
   "metadata": {},
   "outputs": [
    {
     "data": {
      "text/plain": [
       "[(24, 31972),\n",
       " (10, 23790),\n",
       " (22, 9605),\n",
       " (23, 8962),\n",
       " (26, 8059),\n",
       " (25, 7441),\n",
       " (1, 6896),\n",
       " (17, 6661),\n",
       " (28, 3980),\n",
       " (20, 3894),\n",
       " (27, 3081),\n",
       " (15, 1813),\n",
       " (19, 875),\n",
       " (2, 871),\n",
       " (43, 201),\n",
       " (29, 161),\n",
       " (30, 6)]"
      ]
     },
     "execution_count": 14,
     "metadata": {},
     "output_type": "execute_result"
    }
   ],
   "source": [
    "cat_counter.most_common(len(cat_counter.keys()))"
   ]
  },
  {
   "cell_type": "code",
   "execution_count": 15,
   "metadata": {},
   "outputs": [
    {
     "data": {
      "text/plain": [
       "dict_keys([10, 23, 24, 25, 22, 26, 1, 28, 20, 17, 29, 15, 19, 2, 27, 43, 30])"
      ]
     },
     "execution_count": 15,
     "metadata": {},
     "output_type": "execute_result"
    }
   ],
   "source": [
    "# unique vals\n",
    "cat_counter.keys()"
   ]
  },
  {
   "cell_type": "code",
   "execution_count": 16,
   "metadata": {},
   "outputs": [
    {
     "name": "stdout",
     "output_type": "stream",
     "text": [
      "0.2703351709676328\n",
      "0.20115331281496263\n"
     ]
    }
   ],
   "source": [
    "print((cat_counter.most_common(1))[0][1]/len(cat_list))\n",
    "print((cat_counter.most_common(2))[1][1]/len(cat_list))"
   ]
  },
  {
   "cell_type": "code",
   "execution_count": 17,
   "metadata": {},
   "outputs": [
    {
     "name": "stderr",
     "output_type": "stream",
     "text": [
      "<ipython-input-17-a50711b846e5>:8: MatplotlibDeprecationWarning: Non-1D inputs to pie() are currently squeeze()d, but this behavior is deprecated since 3.1 and will be removed in 3.3; pass a 1D array instead.\n",
      "  plt.pie(cat_chart, labels=my_labels)\n"
     ]
    },
    {
     "data": {
      "image/png": "[encoded data removed]",
      "text/plain": [
       "<Figure size 432x288 with 1 Axes>"
      ]
     },
     "metadata": {},
     "output_type": "display_data"
    }
   ],
   "source": [
    "cats = df['category_id'].value_counts()\n",
    "cat_chart = [cats]\n",
    "\n",
    "\n",
    "my_labels = [pair[0] for pair in cat_counter.most_common(len(cats))]\n",
    "\n",
    "\n",
    "plt.pie(cat_chart, labels=my_labels)\n",
    "\n",
    "plt.title('Youtube Categories')\n",
    "plt.axis('equal')\n",
    "\n",
    "plt.show()"
   ]
  },
  {
   "cell_type": "code",
   "execution_count": 18,
   "metadata": {},
   "outputs": [
    {
     "data": {
      "text/plain": [
       "{1, 10, 17, 20, 22, 23, 24, 25, 26, 28}"
      ]
     },
     "execution_count": 18,
     "metadata": {},
     "output_type": "execute_result"
    }
   ],
   "source": [
    "# getting rid of all ids after 17, the top 10\n",
    "top_cats = cat_counter.keys()\n",
    "top_cats = list(top_cats)[0:10]\n",
    "top_cats = set(top_cats)\n",
    "top_cats"
   ]
  },
  {
   "cell_type": "code",
   "execution_count": 19,
   "metadata": {},
   "outputs": [],
   "source": [
    "# df containing only the top 10\n",
    "# new_df = pd.DataFrame()\n",
    "\n",
    "# for cat in top_cats:\n",
    "#     new_df = pd.concat([new_df , df[df['category_id'] == cat] ]) \n",
    "\n",
    "# # the data to work with\n",
    "# df = new_df\n",
    "\n",
    "# len(new_df)"
   ]
  },
  {
   "cell_type": "code",
   "execution_count": 20,
   "metadata": {},
   "outputs": [],
   "source": [
    "# cat_list = new_df['category_id'].to_list()\n",
    "# cat_counter = Counter(cat_list)\n",
    "# cat_counter.most_common(len(cat_counter.keys()))"
   ]
  },
  {
   "cell_type": "markdown",
   "metadata": {},
   "source": [
    "## Title Length"
   ]
  },
  {
   "cell_type": "code",
   "execution_count": 21,
   "metadata": {},
   "outputs": [],
   "source": [
    "# 1 - eda through the title:\n",
    "# -a length\n",
    "# -b most common words\n",
    "# -c language (find a ratio so to deem words non-english), filter based on this ratio\n",
    "\n",
    "# 1a - eda the lengths of the title\n",
    "df['title_length'] = df['title'].apply(len)"
   ]
  },
  {
   "cell_type": "code",
   "execution_count": 22,
   "metadata": {
    "scrolled": true
   },
   "outputs": [
    {
     "name": "stdout",
     "output_type": "stream",
     "text": [
      "Num unique vals: 99\n",
      "Min: 2\n",
      "Max: 100\n",
      "Median: 50.67723306388879\n",
      "Mean: 48.0\n",
      "Std: 256183.56985315713\n"
     ]
    }
   ],
   "source": [
    "len_list = df['title_length'].to_list()\n",
    "len_counter = Counter(len_list)\n",
    "print(\"Num unique vals: {}\".format(len(len_counter.keys())))\n",
    "\n",
    "min_val = df['title_length'].min()\n",
    "max_val = df['title_length'].max()\n",
    "mean = df['title_length'].mean()\n",
    "median = df['title_length'].median()\n",
    "sd = df['likes'].std()\n",
    "print(\"Min: {}\\nMax: {}\\nMedian: {}\\nMean: {}\\nStd: {}\".format(min_val, max_val, mean, median, sd))"
   ]
  },
  {
   "cell_type": "code",
   "execution_count": 23,
   "metadata": {},
   "outputs": [
    {
     "data": {
      "text/plain": [
       "<matplotlib.axes._subplots.AxesSubplot at 0x15ef7fa1610>"
      ]
     },
     "execution_count": 23,
     "metadata": {},
     "output_type": "execute_result"
    },
    {
     "data": {
      "image/png": "[encoded data removed]",
      "text/plain": [
       "<Figure size 576x360 with 1 Axes>"
      ]
     },
     "metadata": {
      "needs_background": "light"
     },
     "output_type": "display_data"
    }
   ],
   "source": [
    "plt.xticks(range(2, max(len_counter.keys()), 5))\n",
    "\n",
    "plt.xlabel('Title Lengths', fontsize=15)\n",
    "plt.ylabel('Frequency', fontsize=15)\n",
    "plt.title('Distribution of Title Lengths', fontsize=15)\n",
    "\n",
    "df['title_length'].plot.hist(bins = len(len_counter.keys()), figsize=(8,5))"
   ]
  },
  {
   "cell_type": "code",
   "execution_count": 24,
   "metadata": {},
   "outputs": [
    {
     "data": {
      "text/plain": [
       "category_id\n",
       "1     49.266531\n",
       "2     51.771527\n",
       "10    47.885876\n",
       "15    42.467181\n",
       "17    64.830506\n",
       "19    62.390857\n",
       "20    50.693888\n",
       "22    46.025508\n",
       "23    42.715800\n",
       "24    53.674840\n",
       "25    60.561887\n",
       "26    50.045539\n",
       "27    44.417397\n",
       "28    39.952513\n",
       "29    54.813665\n",
       "30    96.000000\n",
       "43    41.920398\n",
       "Name: title_length, dtype: float64"
      ]
     },
     "execution_count": 24,
     "metadata": {},
     "output_type": "execute_result"
    }
   ],
   "source": [
    "df.groupby('category_id')['title_length'].mean()"
   ]
  },
  {
   "cell_type": "code",
   "execution_count": 25,
   "metadata": {},
   "outputs": [
    {
     "data": {
      "text/plain": [
       "category_id\n",
       "1     19.410261\n",
       "2     18.518631\n",
       "10    19.060024\n",
       "15    19.931939\n",
       "17    21.928356\n",
       "19    25.529413\n",
       "20    19.913550\n",
       "22    20.494406\n",
       "23    20.282909\n",
       "24    20.546207\n",
       "25    20.063775\n",
       "26    17.503155\n",
       "27    16.835831\n",
       "28    16.476720\n",
       "29    25.293330\n",
       "30     0.000000\n",
       "43    14.186037\n",
       "Name: title_length, dtype: float64"
      ]
     },
     "execution_count": 25,
     "metadata": {},
     "output_type": "execute_result"
    }
   ],
   "source": [
    "df.groupby('category_id')['title_length'].std()"
   ]
  },
  {
   "cell_type": "code",
   "execution_count": 26,
   "metadata": {},
   "outputs": [],
   "source": [
    "df_std = df.groupby('category_id')['title_length'].std()\n",
    "# x = df['category_id'].unique()\n",
    "# y = df_std\n",
    "# plt.scatter(x, y, c='blue')\n",
    "\n",
    "# plt.xticks(df['category_id'].unique())\n",
    "\n",
    "# plt.xlabel('Category ID')\n",
    "# plt.ylabel('Standard Deviation')\n",
    "# plt.title('Standard Deviation of Title Length Grouped by Categories')"
   ]
  },
  {
   "cell_type": "code",
   "execution_count": 27,
   "metadata": {},
   "outputs": [
    {
     "data": {
      "image/png": "[encoded data removed]",
      "text/plain": [
       "<Figure size 432x288 with 1 Axes>"
      ]
     },
     "metadata": {
      "needs_background": "light"
     },
     "output_type": "display_data"
    }
   ],
   "source": [
    "ax = df_std.plot.bar(x='category_id', y='title_length', rot=0)"
   ]
  },
  {
   "cell_type": "code",
   "execution_count": 28,
   "metadata": {},
   "outputs": [
    {
     "data": {
      "text/plain": [
       "category_id\n",
       "1     100\n",
       "2     100\n",
       "10    100\n",
       "15    100\n",
       "17    100\n",
       "19    100\n",
       "20    100\n",
       "22    100\n",
       "23    100\n",
       "24    100\n",
       "25    100\n",
       "26    100\n",
       "27    100\n",
       "28    100\n",
       "29     97\n",
       "30     96\n",
       "43     98\n",
       "Name: title_length, dtype: int64"
      ]
     },
     "execution_count": 28,
     "metadata": {},
     "output_type": "execute_result"
    }
   ],
   "source": [
    "df.groupby('category_id')['title_length'].max()"
   ]
  },
  {
   "cell_type": "code",
   "execution_count": 29,
   "metadata": {
    "scrolled": false
   },
   "outputs": [
    {
     "data": {
      "text/plain": [
       "Text(0.5, 0, 'Category ID')"
      ]
     },
     "execution_count": 29,
     "metadata": {},
     "output_type": "execute_result"
    },
    {
     "data": {
      "image/png": "[encoded data removed]",
      "text/plain": [
       "<Figure size 432x288 with 1 Axes>"
      ]
     },
     "metadata": {
      "needs_background": "light"
     },
     "output_type": "display_data"
    }
   ],
   "source": [
    "# violin plots for title lengths by category\n",
    "ax = violinplot(x=\"category_id\", y=\"title_length\", data=df, dodge=False)\n",
    "\n",
    "ax.set_title(\"Title Lengths per Category\", fontsize=15)\n",
    "ax.set_ylabel(\"Title Length\", fontsize=15)\n",
    "ax.set_xlabel(\"Category ID\", fontsize=15)"
   ]
  },
  {
   "cell_type": "markdown",
   "metadata": {},
   "source": [
    "## Most Common Words for Title"
   ]
  },
  {
   "cell_type": "code",
   "execution_count": 30,
   "metadata": {},
   "outputs": [],
   "source": [
    "stop_words = set(stopwords.words('english'))  "
   ]
  },
  {
   "cell_type": "code",
   "execution_count": 31,
   "metadata": {},
   "outputs": [
    {
     "name": "stdout",
     "output_type": "stream",
     "text": [
      "Most common words and their counts:\n",
      "[(12953, 'official'), (10522, 'video'), (8569, '2018'), (5456, 'trailer'), (4836, 'ft'), (3706, 'vs'), (3540, 'music'), (3310, 'new'), (3286, '2'), (3192, 'full'), (3103, '2017'), (3059, 'episode'), (2706, 'hd'), (2511, 'audio'), (2402, 'live'), (2204, 'game'), (2025, '1'), (1991, 'feat'), (1873, 'star'), (1836, 'trump'), (1742, '10'), (1700, 'season'), (1676, 'first'), (1628, 'last'), (1606, 'day'), (1572, 'makeup'), (1545, 'wars'), (1519, '5'), (1517, 'love'), (1506, 'best')]\n",
      "['official', 'video', '2018', 'trailer', 'ft', 'vs', 'music', 'new', '2', 'full']\n"
     ]
    }
   ],
   "source": [
    "# eda the most common words\n",
    "wordCount = defaultdict(int)\n",
    "punctuation = set(string.punctuation)\n",
    "\n",
    "\n",
    "for title in df['title']:\n",
    "    r = ''.join([c for c in title.lower() if not c in punctuation])\n",
    "    for w in r.split():\n",
    "        \n",
    "        if w not in stop_words:\n",
    "            wordCount[w] += 1\n",
    "\n",
    "counts = [(wordCount[w], w) for w in wordCount]\n",
    "counts.sort()\n",
    "counts.reverse()\n",
    "\n",
    "# Report most common words and their counts\n",
    "print(\"Most common words and their counts:\")\n",
    "print(counts[:30])  \n",
    "print([x[1] for x in counts[:10]])  "
   ]
  },
  {
   "cell_type": "code",
   "execution_count": 32,
   "metadata": {},
   "outputs": [],
   "source": [
    "# a dictionary of dicts, each inner dict count the words of a certain category\n",
    "cat_dict = dict()\n",
    "\n",
    "for cat_id in cat_list:\n",
    "    cat_dict[cat_id] = defaultdict(int)\n",
    "\n",
    "# eda the most common words over different categories\n",
    "for index, row in df.iterrows():\n",
    "    cat_id = row['category_id']\n",
    "    title = row['title']\n",
    "    \n",
    "    # get dictionary corresponding to this category\n",
    "    cat_word_count = cat_dict[cat_id]\n",
    "    \n",
    "    r = ''.join([c for c in title.lower() if not c in punctuation])\n",
    "    for w in r.split():\n",
    "        \n",
    "        if w not in stop_words and w != '►' and w != '●':\n",
    "            cat_word_count[w] += 1"
   ]
  },
  {
   "cell_type": "code",
   "execution_count": 33,
   "metadata": {
    "scrolled": true
   },
   "outputs": [
    {
     "name": "stdout",
     "output_type": "stream",
     "text": [
      "Most common words for Category: 10\n",
      "['video', 'official', 'ft', 'music', 'audio', 'feat', 'mv', 'live', '2018', 'lyric']\n",
      "\n",
      "Most common words for Category: 23\n",
      "['trump', 'look', 'closer', 'show', 'video', 'hart', 'kevin', 'laugh', 'conan', 'vs']\n",
      "\n",
      "Most common words for Category: 24\n",
      "['2018', 'trailer', 'official', 'episode', 'hd', '2', 'season', 'star', 'full', '2017']\n",
      "\n",
      "Most common words for Category: 25\n",
      "['trump', 'news', '2018', 'president', 'today', 'new', 'live', 'full', 'msnbc', 'house']\n",
      "\n",
      "Most common words for Category: 22\n",
      "['2018', 'vs', '2017', 'new', 'video', 'official', 'day', 'full', 'christmas', 'time']\n",
      "\n",
      "Most common words for Category: 26\n",
      "['makeup', 'make', 'cake', 'beauty', 'new', 'full', 'face', 'tutorial', 'day', 'vs']\n",
      "\n",
      "Most common words for Category: 1\n",
      "['trailer', 'official', '2018', 'hd', 'movie', 'trailers', '2', 'teaser', 'hbo', 'honest']\n",
      "\n",
      "Most common words for Category: 28\n",
      "['test', 'gadgets', 'iphone', '—', 'apple', 'x', 'new', 'put', 'review', 'heavy']\n",
      "\n",
      "Most common words for Category: 20\n",
      "['trailer', 'game', 'fortnite', '2018', 'new', 'royale', '2', 'super', 'official', 'nintendo']\n",
      "\n",
      "Most common words for Category: 17\n",
      "['vs', '2018', 'game', 'highlights', 'nba', 'full', 'espn', 'first', 'lebron', 'james']\n",
      "\n",
      "Most common words for Category: 29\n",
      "['tomorrow', 'suicide', '2018', 'tedxbristol', 'path', 'paralysis', 'opportunity', 'martyn', 'finding', 'disaster']\n",
      "\n",
      "Most common words for Category: 15\n",
      "['cat', 'dog', 'dodo', 'cats', 'simons', 'like', 'new', 'black', 'bbc', 'tiny']\n",
      "\n",
      "Most common words for Category: 19\n",
      "['food', 'street', 'tour', 'india', 'best', 'buffet', 'mexican', 'mexico', 'eat', 'amazing']\n",
      "\n",
      "Most common words for Category: 2\n",
      "['2018', 'car', 'super', 'tesla', 'de', 'commercial', 'bowl', 'official', 'heres', 'cars']\n",
      "\n",
      "Most common words for Category: 27\n",
      "['–', '10', 'make', 'space', 'time', '2018', 'world', 'life', 'black', 'things']\n",
      "\n",
      "Most common words for Category: 43\n",
      "['episode', 'zones', 'game', 'priyamanaval', 'deivamagal', 'apple', 'van', 'isle', 'gundy', 's5e5']\n",
      "\n",
      "Most common words for Category: 30\n",
      "['verma', 'te', 'superhit', 'simi', 'punjabi', 'movies', 'movie', 'hd', 'harish', 'golak']\n",
      "\n"
     ]
    }
   ],
   "source": [
    "for cat_id in cat_dict:\n",
    "    \n",
    "    cat_word_count = cat_dict[cat_id]\n",
    "    \n",
    "    counts = [(cat_word_count[w], w) for w in cat_word_count]\n",
    "    counts.sort()\n",
    "    counts.reverse()\n",
    "\n",
    "    # Report most common words and their counts\n",
    "    print(\"Most common words for Category: {}\".format(cat_id))\n",
    "    print([x[1] for x in counts[:10]])  \n",
    "    print()"
   ]
  },
  {
   "cell_type": "markdown",
   "metadata": {},
   "source": [
    "## Most Common Words for Tags"
   ]
  },
  {
   "cell_type": "code",
   "execution_count": 34,
   "metadata": {},
   "outputs": [],
   "source": [
    "# a dictionary of dicts, each inner dict count the words of a certain category\n",
    "cat_dict = dict()\n",
    "\n",
    "for cat_id in cat_list:\n",
    "    cat_dict[cat_id] = defaultdict(int)\n",
    "\n",
    "# eda the most common words over different categories\n",
    "for index, row in df.iterrows():\n",
    "    cat_id = row['category_id']\n",
    "    title = row['tags']\n",
    "    \n",
    "    # get dictionary corresponding to this category\n",
    "    cat_word_count = cat_dict[cat_id]\n",
    "    \n",
    "    r = ''.join([c for c in title.lower() if not c in punctuation])\n",
    "    for w in r.split():\n",
    "        \n",
    "        if w not in stop_words:\n",
    "            cat_word_count[w] += 1"
   ]
  },
  {
   "cell_type": "code",
   "execution_count": 35,
   "metadata": {
    "scrolled": true
   },
   "outputs": [
    {
     "name": "stdout",
     "output_type": "stream",
     "text": [
      "Most common words for Category: 10\n",
      "['music', 'new', 'official', 'songs', 'feat', 'punjabi', 'ft', 'video', 'puth', 'harris']\n",
      "\n",
      "Most common words for Category: 23\n",
      "['tvtelevisionfunnytalk', 'show', 'seth', 'tonight', 'everevery', 'standupfallon', 'videointerviewvarietycomedy', 'monologuetonightshowjokesfunny', 'updatenews', 'showcomedyhumorstandupparodysnl']\n",
      "\n",
      "Most common words for Category: 24\n",
      "['voice', 'season', 'late', 'tv', 'last', 'wars', 'episode', 'new', 'mythical', 'norton']\n",
      "\n",
      "Most common words for Category: 25\n",
      "['news', 'trump', 'latest', 'tulfo', 'show', 'action', 'newshappening', 'cena', 'donald', 'peterson']\n",
      "\n",
      "Most common words for Category: 22\n",
      "['none', 'rogan', 'vs', 'makeup', 'gomez', 'joe', 'cardi', 'fashion', 'versace', 'b']\n",
      "\n",
      "Most common words for Category: 26\n",
      "['makeup', 'make', 'face', 'cake', 'de', 'vs', 'beauty', 'star', 'first', 'life']\n",
      "\n",
      "Most common words for Category: 1\n",
      "['movie', 'wars', 'trailer', 'clark', 'last', 'none', 'rim', 'theory', 'official', 'star']\n",
      "\n",
      "Most common words for Category: 28\n",
      "['x', 'iphone', 'vs', 'none', 'gadgets', '8', 'science', 'tech', 'kitchen', 'put']\n",
      "\n",
      "Most common words for Category: 20\n",
      "['game', 'doki', 'royale', 'new', 'six', 'games', '2', 'siege', 'battle', 'smash']\n",
      "\n",
      "Most common words for Category: 17\n",
      "['vs', 'game', 'perfect', 'take', 'full', 'sports', 'nba', 'bottle', 'highlights', 'james']\n",
      "\n",
      "Most common words for Category: 29\n",
      "['paul', 'youtubelogan', 'vloglogan', 'tomorrow', 'suicidesuicide', 'stepssuicide', 'prevention5', 'prevention', 'paulloganpaullogan', 'logan']\n",
      "\n",
      "Most common words for Category: 15\n",
      "['cat', 'animal', 'dog', 'sleeps', 'trailcoyotecoyote', 'animals', 'coon', 'smallest', 'dogdog', 'donkey']\n",
      "\n",
      "Most common words for Category: 19\n",
      "['food', 'street', 'foodstreet', 'national', 'foodfood', 'foodindian', 'ranger', 'indian', 'eat', 'rangertrevor']\n",
      "\n",
      "Most common words for Category: 2\n",
      "['super', 'bowl', 'demurodemuro', 'commercialram', 'car', 'wiper', 'official', 'black', 'game', 'ram']\n",
      "\n",
      "Most common words for Category: 27\n",
      "['life', 'noggin', 'king', 'nogginlife', 'thompson', 'thompsonthe', 'randomgrant', 'tom', 'youtubeyoutube', 'face']\n",
      "\n",
      "Most common words for Category: 43\n",
      "['episode', 'today', 'serial', 'magal', 'bleacher', 'todaypriyamanaval', 'todaydeivamagal', 'serialpiriyamanavalபிரியமானவள்priyamanaval', 'priyamanaval', 'episodeperiyamanavalpriyamanaval']\n",
      "\n",
      "Most common words for Category: 30\n",
      "['ਬੈਂਕ', 'ਬੁਗਨੀ', 'ਬਟੂਆ', 'ਤੇ', 'vermasimi', 'trailerteaserharish', 'trailercomedyfunnyrhythm', 'te', 'raikotisunidhi', 'punjabi']\n",
      "\n"
     ]
    }
   ],
   "source": [
    "for cat_id in cat_dict:\n",
    "    \n",
    "    cat_word_count = cat_dict[cat_id]\n",
    "    \n",
    "    counts = [(cat_word_count[w], w) for w in cat_word_count]\n",
    "    counts.sort()\n",
    "    counts.reverse()\n",
    "\n",
    "    # Report most common words and their counts\n",
    "    print(\"Most common words for Category: {}\".format(cat_id))\n",
    "    print([x[1] for x in counts[:10]])  \n",
    "    print()"
   ]
  },
  {
   "cell_type": "markdown",
   "metadata": {},
   "source": [
    "## Most Common Words for Description"
   ]
  },
  {
   "cell_type": "code",
   "execution_count": 36,
   "metadata": {},
   "outputs": [
    {
     "name": "stdout",
     "output_type": "stream",
     "text": [
      "Most common words and their counts:\n",
      "[(49836, 'video'), (42743, 'music'), (40205, 'us'), (36175, 'new'), (31002, 'videos'), (30283, 'twitter'), (29577, 'channel'), (27946, 'get'), (27141, 'facebook'), (24682, 'instagram'), (24563, 'show'), (24250, 'subscribe'), (23977, 'youtube'), (22537, 'like'), (22169, 'news'), (21114, '►'), (19795, 'official'), (19402, 'one'), (18846, 'watch'), (18054, 'live'), (16390, '2018'), (15878, 'make'), (15332, '–'), (15129, 'n'), (14988, 'use'), (14924, 'love'), (14720, 'late'), (14665, 'know'), (14086, 'full'), (13846, 'first')]\n"
     ]
    }
   ],
   "source": [
    "# eda the most common words\n",
    "wordCount = defaultdict(int)\n",
    "punctuation = set(string.punctuation)\n",
    "\n",
    "\n",
    "for title in df['description']:\n",
    "    r = ''.join([c for c in title.lower() if not c in punctuation])\n",
    "    for w in r.split():\n",
    "        \n",
    "        if w not in stop_words:\n",
    "            wordCount[w] += 1\n",
    "\n",
    "counts = [(wordCount[w], w) for w in wordCount]\n",
    "counts.sort()\n",
    "counts.reverse()\n",
    "\n",
    "# Report most common words and their counts\n",
    "print(\"Most common words and their counts:\")\n",
    "print(counts[:30])  "
   ]
  },
  {
   "cell_type": "code",
   "execution_count": 37,
   "metadata": {},
   "outputs": [],
   "source": [
    "# a dictionary of dicts, each inner dict count the words of a certain category\n",
    "cat_dict = dict()\n",
    "\n",
    "for cat_id in cat_list:\n",
    "    cat_dict[cat_id] = defaultdict(int)\n",
    "\n",
    "# eda the most common words over different categories\n",
    "for index, row in df.iterrows():\n",
    "    cat_id = row['category_id']\n",
    "    title = row['description']\n",
    "    \n",
    "    # get dictionary corresponding to this category\n",
    "    cat_word_count = cat_dict[cat_id]\n",
    "    \n",
    "    r = ''.join([c for c in title.lower() if not c in punctuation])\n",
    "    for w in r.split():\n",
    "        \n",
    "        if w not in stop_words and w != '►' and w != '●':\n",
    "            cat_word_count[w] += 1"
   ]
  },
  {
   "cell_type": "code",
   "execution_count": 38,
   "metadata": {
    "scrolled": true
   },
   "outputs": [
    {
     "name": "stdout",
     "output_type": "stream",
     "text": [
      "Most common words for Category: 10\n",
      "['music', 'video', '–', 'official', 'get', '2018', 'new', 'available', 'album', 'know']\n",
      "\n",
      "Most common words for Category: 23\n",
      "['jimmy', 'night', 'show', 'late', 'tonight', '➡', 'seth', 'fallon', 'nbc', 'kimmel']\n",
      "\n",
      "Most common words for Category: 24\n",
      "['show', 'videos', 'new', 'video', 'twitter', 'us', 'facebook', 'channel', 'instagram', 'late']\n",
      "\n",
      "Most common words for Category: 25\n",
      "['news', 'today', 'twitter', 'facebook', 'subscribe', 'us', 'video', 'msnbc', 'cbs', 'channel']\n",
      "\n",
      "Most common words for Category: 22\n",
      "['music', 'via', 'videos', 'video', 'us', 'channel', 'production', 'warner', 'chappell', 'new']\n",
      "\n",
      "Most common words for Category: 26\n",
      "['video', 'makeup', 'make', 'channel', 'videos', 'code', 'links', 'n', 'new', 'use']\n",
      "\n",
      "Most common words for Category: 1\n",
      "['us', 'movie', 'twitter', 'trailers', 'film', 'facebook', 'new', 'trailer', 'official', 'hbo']\n",
      "\n",
      "Most common words for Category: 28\n",
      "['video', 'iphone', 'us', 'twitter', 'new', 'videos', 'music', 'x', 'smartphone', 'one']\n",
      "\n",
      "Most common words for Category: 20\n",
      "['us', 'new', 'game', 'video', '►►', 'twitter', 'nintendo', 'fortnite', 'play', 'subscribe']\n",
      "\n",
      "Most common words for Category: 17\n",
      "['youtube', 'nba', 'us', 'sports', 'nfl', 'twitter', 'highlights', 'vs', 'videos', 'ufc']\n",
      "\n",
      "Most common words for Category: 29\n",
      "['drag', 'race', 'learn', 'live', 'thanks', 'highly', 'kevin', 'world', '—', 'using']\n",
      "\n",
      "Most common words for Category: 15\n",
      "['cat', 'us', 'new', 'ant', 'subscribe', 'peterson', 'simons', 'video', 'channel', 'instagram']\n",
      "\n",
      "Most common words for Category: 19\n",
      "['food', 'street', 'best', 'amazing', 'videos', 'delicious', 'show', 'world', 'instagram', 'video']\n",
      "\n",
      "Most common words for Category: 2\n",
      "['car', 'video', 'us', 'new', 'show', 'de', 'im', '2018', 'videos', 'facebook']\n",
      "\n",
      "Most common words for Category: 27\n",
      "['video', 'patreon', 'life', 'get', 'us', 'videos', 'like', 'kevin', 'n', 'noggin']\n",
      "\n",
      "Most common words for Category: 43\n",
      "['episode', 'priyamanaval', 'us', 'deivamagal', 'best', 'song', 'episodes', 'prev', 'title', 'facebook']\n",
      "\n",
      "Most common words for Category: 30\n",
      "['singh', 'ali', 'stills', 'sandhu', 'sabir', 'production', 'gill', 'entertainment', 'director', 'dialogue']\n",
      "\n"
     ]
    }
   ],
   "source": [
    "for cat_id in cat_dict:\n",
    "    \n",
    "    cat_word_count = cat_dict[cat_id]\n",
    "    \n",
    "    counts = [(cat_word_count[w], w) for w in cat_word_count]\n",
    "    counts.sort()\n",
    "    counts.reverse()\n",
    "\n",
    "    # Report most common words and their counts\n",
    "    print(\"Most common words for Category: {}\".format(cat_id))\n",
    "    print([x[1] for x in counts[:10]])  \n",
    "    print()"
   ]
  },
  {
   "cell_type": "markdown",
   "metadata": {},
   "source": [
    "## Description - Ratio of URL Chars"
   ]
  },
  {
   "cell_type": "code",
   "execution_count": 39,
   "metadata": {},
   "outputs": [],
   "source": [
    "# ratio of url chars to rest of string in description\n",
    "cat_url_char_count = defaultdict(int)\n",
    "cat_nonurl_char_count = defaultdict(int)\n",
    "\n",
    "    \n",
    "for index, row in df.iterrows():\n",
    "    cat_id = row['category_id']\n",
    "    title = row['description']\n",
    "    \n",
    "    r = ''.join([c for c in title.lower() if not c in punctuation])\n",
    "    for w in r.split():\n",
    "        \n",
    "        if w[0:4] == \"http\":\n",
    "            cat_url_char_count[cat_id] += len(w)\n",
    "        else:\n",
    "            cat_nonurl_char_count[cat_id] += len(w)"
   ]
  },
  {
   "cell_type": "code",
   "execution_count": 40,
   "metadata": {
    "scrolled": true
   },
   "outputs": [
    {
     "name": "stdout",
     "output_type": "stream",
     "text": [
      "Category: 10\n",
      "Num URL Chars: 4024777 -- Num NonURL Chars: 11901235\n",
      "Num URL Chars over Total Chars: 0.25271718996569886\n",
      "Category: 23\n",
      "Num URL Chars: 2400691 -- Num NonURL Chars: 4608120\n",
      "Num URL Chars over Total Chars: 0.3425247163891279\n",
      "Category: 25\n",
      "Num URL Chars: 1035092 -- Num NonURL Chars: 3875635\n",
      "Num URL Chars over Total Chars: 0.21078182517578353\n",
      "Category: 22\n",
      "Num URL Chars: 1441264 -- Num NonURL Chars: 5232732\n",
      "Num URL Chars over Total Chars: 0.2159521821709213\n",
      "Category: 24\n",
      "Num URL Chars: 6040052 -- Num NonURL Chars: 20291548\n",
      "Num URL Chars over Total Chars: 0.22938416199547312\n",
      "Category: 26\n",
      "Num URL Chars: 2391832 -- Num NonURL Chars: 6786137\n",
      "Num URL Chars over Total Chars: 0.2606058050533838\n",
      "Category: 1\n",
      "Num URL Chars: 1069739 -- Num NonURL Chars: 4018411\n",
      "Num URL Chars over Total Chars: 0.2102412468185883\n",
      "Category: 28\n",
      "Num URL Chars: 1034459 -- Num NonURL Chars: 2572192\n",
      "Num URL Chars over Total Chars: 0.2868198225999688\n",
      "Category: 20\n",
      "Num URL Chars: 667351 -- Num NonURL Chars: 1794216\n",
      "Num URL Chars over Total Chars: 0.2711082005892994\n",
      "Category: 17\n",
      "Num URL Chars: 1077210 -- Num NonURL Chars: 3270425\n",
      "Num URL Chars over Total Chars: 0.2477691894558766\n",
      "Category: 15\n",
      "Num URL Chars: 440502 -- Num NonURL Chars: 1295474\n",
      "Num URL Chars over Total Chars: 0.2537488997543745\n",
      "Category: 19\n",
      "Num URL Chars: 255191 -- Num NonURL Chars: 849005\n",
      "Num URL Chars over Total Chars: 0.23111023767519534\n",
      "Category: 2\n",
      "Num URL Chars: 127337 -- Num NonURL Chars: 402411\n",
      "Num URL Chars over Total Chars: 0.2403727810204097\n",
      "Category: 27\n",
      "Num URL Chars: 990719 -- Num NonURL Chars: 2665592\n",
      "Num URL Chars over Total Chars: 0.27096135968740076\n",
      "Category: 43\n",
      "Num URL Chars: 40052 -- Num NonURL Chars: 40534\n",
      "Num URL Chars over Total Chars: 0.4970094061003152\n",
      "Category: 29\n",
      "Num URL Chars: 18119 -- Num NonURL Chars: 120548\n",
      "Num URL Chars over Total Chars: 0.13066555128473248\n",
      "Category: 30\n",
      "Num URL Chars: 540 -- Num NonURL Chars: 5212\n",
      "Num URL Chars over Total Chars: 0.09388038942976357\n"
     ]
    }
   ],
   "source": [
    "for cat_id in cat_url_char_count:\n",
    "    \n",
    "    print(\"Category: {}\".format(cat_id))    \n",
    "    print(\"Num URL Chars: {} -- Num NonURL Chars: {}\".format(cat_url_char_count[cat_id], cat_nonurl_char_count[cat_id]))\n",
    "    print(\"Num URL Chars over Total Chars: {}\".format(cat_url_char_count[cat_id]/(cat_url_char_count[cat_id] + cat_nonurl_char_count[cat_id])))"
   ]
  },
  {
   "cell_type": "markdown",
   "metadata": {},
   "source": [
    "## Description - Ratio of NonEnglish Chars"
   ]
  },
  {
   "cell_type": "code",
   "execution_count": 41,
   "metadata": {},
   "outputs": [],
   "source": [
    "# ratio of uchars to rest of string in description\n",
    "cat_ascii_count = defaultdict(int)\n",
    "cat_nonascii_count = defaultdict(int)\n",
    "\n",
    "    \n",
    "for index, row in df.iterrows():\n",
    "    cat_id = row['category_id']\n",
    "    title = row['description']\n",
    "    \n",
    "    r = ''.join([c for c in title.lower() if not c in punctuation])\n",
    "    for w in r.split():\n",
    "        \n",
    "        for c in w:\n",
    "            if c.isascii():\n",
    "                cat_ascii_count[cat_id] += 1\n",
    "                \n",
    "            else:\n",
    "                cat_nonascii_count[cat_id] += 1                "
   ]
  },
  {
   "cell_type": "code",
   "execution_count": 42,
   "metadata": {
    "scrolled": true
   },
   "outputs": [
    {
     "name": "stdout",
     "output_type": "stream",
     "text": [
      "Category: 10\n",
      "Num URL Chars: 15608259 -- Num NonURL Chars: 15608259\n",
      "Num Ascii Chars over Total Chars 0.9800481752745132\n",
      "Category: 23\n",
      "Num URL Chars: 6895444 -- Num NonURL Chars: 6895444\n",
      "Num Ascii Chars over Total Chars 0.9838250738962714\n",
      "Category: 25\n",
      "Num URL Chars: 4770091 -- Num NonURL Chars: 4770091\n",
      "Num Ascii Chars over Total Chars 0.9713614705113928\n",
      "Category: 22\n",
      "Num URL Chars: 6546387 -- Num NonURL Chars: 6546387\n",
      "Num Ascii Chars over Total Chars 0.9808796708898238\n",
      "Category: 24\n",
      "Num URL Chars: 25496299 -- Num NonURL Chars: 25496299\n",
      "Num Ascii Chars over Total Chars 0.9682776208054201\n",
      "Category: 26\n",
      "Num URL Chars: 9052104 -- Num NonURL Chars: 9052104\n",
      "Num Ascii Chars over Total Chars 0.986286181615998\n",
      "Category: 1\n",
      "Num URL Chars: 4938966 -- Num NonURL Chars: 4938966\n",
      "Num Ascii Chars over Total Chars 0.9706801096665783\n",
      "Category: 28\n",
      "Num URL Chars: 3593901 -- Num NonURL Chars: 3593901\n",
      "Num Ascii Chars over Total Chars 0.9964648644961767\n",
      "Category: 20\n",
      "Num URL Chars: 2434844 -- Num NonURL Chars: 2434844\n",
      "Num Ascii Chars over Total Chars 0.989143907112827\n",
      "Category: 17\n",
      "Num URL Chars: 4314744 -- Num NonURL Chars: 4314744\n",
      "Num Ascii Chars over Total Chars 0.9924347375067134\n",
      "Category: 15\n",
      "Num URL Chars: 1728115 -- Num NonURL Chars: 1728115\n",
      "Num Ascii Chars over Total Chars 0.9954717115904829\n",
      "Category: 19\n",
      "Num URL Chars: 1092663 -- Num NonURL Chars: 1092663\n",
      "Num Ascii Chars over Total Chars 0.9895552963423161\n",
      "Category: 2\n",
      "Num URL Chars: 527308 -- Num NonURL Chars: 527308\n",
      "Num Ascii Chars over Total Chars 0.9953940364097646\n",
      "Category: 27\n",
      "Num URL Chars: 3637701 -- Num NonURL Chars: 3637701\n",
      "Num Ascii Chars over Total Chars 0.9949101703875847\n",
      "Category: 43\n",
      "Num URL Chars: 77423 -- Num NonURL Chars: 77423\n",
      "Num Ascii Chars over Total Chars 0.9607500062045516\n",
      "Category: 29\n",
      "Num URL Chars: 129297 -- Num NonURL Chars: 129297\n",
      "Num Ascii Chars over Total Chars 0.9324280470479638\n",
      "Category: 30\n",
      "Num URL Chars: 5752 -- Num NonURL Chars: 5752\n",
      "Num Ascii Chars over Total Chars 1.0\n"
     ]
    }
   ],
   "source": [
    "for cat_id in cat_url_char_count:\n",
    "    \n",
    "    print(\"Category: {}\".format(cat_id))\n",
    "    print(\"Num URL Chars: {} -- Num NonURL Chars: {}\".format(cat_ascii_count[cat_id], cat_ascii_count[cat_id]))\n",
    "    print(\"Num Ascii Chars over Total Chars {}\".format(cat_ascii_count[cat_id]/(cat_ascii_count[cat_id] + cat_nonascii_count[cat_id])))"
   ]
  },
  {
   "cell_type": "markdown",
   "metadata": {},
   "source": [
    "## Likes"
   ]
  },
  {
   "cell_type": "code",
   "execution_count": 43,
   "metadata": {},
   "outputs": [
    {
     "name": "stdout",
     "output_type": "stream",
     "text": [
      "Min: 0\n",
      "Max: 5613827\n",
      "Median: 83005.93769235973\n",
      "Mean: 15933.5\n",
      "Std: 256183.56985315713\n"
     ]
    },
    {
     "data": {
      "image/png": "[encoded data removed]",
      "text/plain": [
       "<Figure size 576x360 with 1 Axes>"
      ]
     },
     "metadata": {
      "needs_background": "light"
     },
     "output_type": "display_data"
    }
   ],
   "source": [
    "# number of likes\n",
    "df['likes'].plot.hist(bins = 1000, figsize=(8,5))\n",
    "\n",
    "\n",
    "min_val = df['likes'].min()\n",
    "max_val = df['likes'].max()\n",
    "mean = df['likes'].mean()\n",
    "median = df['likes'].median()\n",
    "sd = df['likes'].std()\n",
    "print(\"Min: {}\\nMax: {}\\nMedian: {}\\nMean: {}\\nStd: {}\".format(min_val, max_val, mean, median, sd))"
   ]
  },
  {
   "cell_type": "code",
   "execution_count": 44,
   "metadata": {},
   "outputs": [],
   "source": [
    "like_bin_counts = [0]*6\n",
    "# bins for likes, 0 to 1 mill, 1 to 2 mill, etc... up to 5 to 6 mill\n",
    "\n",
    "# count likes by bins\n",
    "# for i in range(0,6000000,1000000):\n",
    "#     like_bin_counts[i] = 0\n",
    "    \n",
    "for like_count in df['likes']:\n",
    "    like_bin_counts[like_count//1000000] += 1"
   ]
  },
  {
   "cell_type": "code",
   "execution_count": 45,
   "metadata": {},
   "outputs": [
    {
     "data": {
      "image/png": "[encoded data removed]",
      "text/plain": [
       "<Figure size 432x288 with 1 Axes>"
      ]
     },
     "metadata": {},
     "output_type": "display_data"
    }
   ],
   "source": [
    "my_labels = range(0,6000000,1000000)\n",
    "\n",
    "\n",
    "plt.pie(like_bin_counts, labels=my_labels)\n",
    "\n",
    "plt.title('Number of Videos within Range of Likes Bin')\n",
    "plt.axis('equal')\n",
    "\n",
    "plt.show()"
   ]
  },
  {
   "cell_type": "code",
   "execution_count": 46,
   "metadata": {},
   "outputs": [
    {
     "data": {
      "text/plain": [
       "<matplotlib.collections.PathCollection at 0x15e8197ab50>"
      ]
     },
     "execution_count": 46,
     "metadata": {},
     "output_type": "execute_result"
    },
    {
     "data": {
      "image/png": "[encoded data removed]",
      "text/plain": [
       "<Figure size 432x288 with 1 Axes>"
      ]
     },
     "metadata": {
      "needs_background": "light"
     },
     "output_type": "display_data"
    }
   ],
   "source": [
    "likes_list = [like for like in df['likes']]\n",
    "likes_list.sort(reverse=True)\n",
    "small_likes_list = likes_list[0:10000]\n",
    "\n",
    "\n",
    "plt.scatter(range(len(small_likes_list)), small_likes_list)"
   ]
  },
  {
   "cell_type": "code",
   "execution_count": 47,
   "metadata": {},
   "outputs": [
    {
     "data": {
      "text/plain": [
       "category_id\n",
       "1      56709.017401\n",
       "2      14358.070034\n",
       "10    240066.448802\n",
       "15     23987.011031\n",
       "17     34834.945053\n",
       "19     10714.622857\n",
       "20     48764.978172\n",
       "22     42759.343571\n",
       "23     61756.866101\n",
       "24     50964.426217\n",
       "25     10796.467813\n",
       "26     32924.760020\n",
       "27     28468.749757\n",
       "28     37718.823116\n",
       "29    295211.291925\n",
       "30     42150.833333\n",
       "43     12480.796020\n",
       "Name: likes, dtype: float64"
      ]
     },
     "execution_count": 47,
     "metadata": {},
     "output_type": "execute_result"
    }
   ],
   "source": [
    "# number of likes by category\n",
    "df.groupby('category_id')['likes'].mean()"
   ]
  },
  {
   "cell_type": "code",
   "execution_count": 48,
   "metadata": {},
   "outputs": [
    {
     "data": {
      "text/plain": [
       "category_id\n",
       "1      99931.429976\n",
       "2      18270.735486\n",
       "10    484750.379500\n",
       "15     30888.728870\n",
       "17    125232.087839\n",
       "19      9766.117465\n",
       "20    104054.792837\n",
       "22    102882.344387\n",
       "23    100405.436513\n",
       "24    165304.437544\n",
       "25     39540.312321\n",
       "26     48890.207380\n",
       "27     51682.790983\n",
       "28     64320.742214\n",
       "29    658579.814574\n",
       "30     22534.365413\n",
       "43     13453.787999\n",
       "Name: likes, dtype: float64"
      ]
     },
     "execution_count": 48,
     "metadata": {},
     "output_type": "execute_result"
    }
   ],
   "source": [
    "df.groupby('category_id')['likes'].std()"
   ]
  },
  {
   "cell_type": "code",
   "execution_count": 49,
   "metadata": {},
   "outputs": [
    {
     "data": {
      "image/png": "[encoded data removed]",
      "text/plain": [
       "<Figure size 432x288 with 1 Axes>"
      ]
     },
     "metadata": {
      "needs_background": "light"
     },
     "output_type": "display_data"
    }
   ],
   "source": [
    "# violin plots for likes by category\n",
    "ax = violinplot(x=\"category_id\", y=\"likes\", data=df, dodge=False)"
   ]
  },
  {
   "cell_type": "markdown",
   "metadata": {},
   "source": [
    "## Dislikes"
   ]
  },
  {
   "cell_type": "code",
   "execution_count": 50,
   "metadata": {},
   "outputs": [
    {
     "name": "stdout",
     "output_type": "stream",
     "text": [
      "Min: 0\n",
      "Max: 1753274\n",
      "Median: 4192.305408056279\n",
      "Mean: 535.0\n",
      "Std: 29162.137401482527\n"
     ]
    },
    {
     "data": {
      "image/png": "[encoded data removed]",
      "text/plain": [
       "<Figure size 576x360 with 1 Axes>"
      ]
     },
     "metadata": {
      "needs_background": "light"
     },
     "output_type": "display_data"
    }
   ],
   "source": [
    "# number of dislikes\n",
    "df['dislikes'].plot.hist(bins = 1000, figsize=(8,5))\n",
    "\n",
    "\n",
    "min_val = df['dislikes'].min()\n",
    "max_val = df['dislikes'].max()\n",
    "mean = df['dislikes'].mean()\n",
    "median = df['dislikes'].median()\n",
    "sd = df['dislikes'].std()\n",
    "print(\"Min: {}\\nMax: {}\\nMedian: {}\\nMean: {}\\nStd: {}\".format(min_val, max_val, mean, median, sd))"
   ]
  },
  {
   "cell_type": "code",
   "execution_count": 51,
   "metadata": {},
   "outputs": [],
   "source": [
    "dislike_bin_counts = [0]*8\n",
    "# bins for likes, 0 to 250 thousand, 250 thousand to 500 thousand, etc.. 1750000 to 2 mill\n",
    "\n",
    "for dislike_count in df['dislikes']:\n",
    "    dislike_bin_counts[dislike_count//250000] += 1"
   ]
  },
  {
   "cell_type": "code",
   "execution_count": 52,
   "metadata": {},
   "outputs": [
    {
     "data": {
      "image/png": "[encoded data removed]",
      "text/plain": [
       "<Figure size 432x288 with 1 Axes>"
      ]
     },
     "metadata": {},
     "output_type": "display_data"
    }
   ],
   "source": [
    "my_labels = range(0,2000000,250000)\n",
    "\n",
    "\n",
    "plt.pie(dislike_bin_counts, labels=my_labels)\n",
    "\n",
    "plt.title('Number of Videos within Range of DisLikes Bin')\n",
    "plt.axis('equal')\n",
    "\n",
    "plt.show()"
   ]
  },
  {
   "cell_type": "code",
   "execution_count": 53,
   "metadata": {},
   "outputs": [
    {
     "data": {
      "text/plain": [
       "<matplotlib.collections.PathCollection at 0x15e825efc10>"
      ]
     },
     "execution_count": 53,
     "metadata": {},
     "output_type": "execute_result"
    },
    {
     "data": {
      "image/png": "[encoded data removed]",
      "text/plain": [
       "<Figure size 432x288 with 1 Axes>"
      ]
     },
     "metadata": {
      "needs_background": "light"
     },
     "output_type": "display_data"
    }
   ],
   "source": [
    "dislikes_list = [like for like in df['dislikes']]\n",
    "dislikes_list.sort(reverse=True)\n",
    "small_dislikes_list = dislikes_list[0:10000]\n",
    "\n",
    "\n",
    "plt.scatter(range(len(small_dislikes_list)), small_dislikes_list)"
   ]
  },
  {
   "cell_type": "code",
   "execution_count": 54,
   "metadata": {},
   "outputs": [
    {
     "data": {
      "text/plain": [
       "category_id\n",
       "1      2228.789153\n",
       "2       828.057405\n",
       "10     9767.918705\n",
       "15      594.830667\n",
       "17     2737.751539\n",
       "19      557.345143\n",
       "20     3563.598870\n",
       "22     3158.805726\n",
       "23     1915.834635\n",
       "24     3908.400288\n",
       "25     1444.299019\n",
       "26     1092.830500\n",
       "27      887.388510\n",
       "28     1938.972864\n",
       "29    68500.378882\n",
       "30     2046.666667\n",
       "43      752.935323\n",
       "Name: dislikes, dtype: float64"
      ]
     },
     "execution_count": 54,
     "metadata": {},
     "output_type": "execute_result"
    }
   ],
   "source": [
    "# number of likes by category\n",
    "df.groupby('category_id')['dislikes'].mean()"
   ]
  },
  {
   "cell_type": "code",
   "execution_count": 55,
   "metadata": {},
   "outputs": [
    {
     "data": {
      "text/plain": [
       "category_id\n",
       "1       4024.952449\n",
       "2       1923.237030\n",
       "10     27525.779825\n",
       "15       798.438173\n",
       "17     15496.059783\n",
       "19      1109.045444\n",
       "20     17379.961477\n",
       "22     17247.721494\n",
       "23      3499.154817\n",
       "24     47023.851558\n",
       "25      5140.800379\n",
       "26      2499.624075\n",
       "27      1430.683633\n",
       "28      4428.416027\n",
       "29    156642.688452\n",
       "30      1375.767664\n",
       "43       540.208007\n",
       "Name: dislikes, dtype: float64"
      ]
     },
     "execution_count": 55,
     "metadata": {},
     "output_type": "execute_result"
    }
   ],
   "source": [
    "df.groupby('category_id')['dislikes'].std()"
   ]
  },
  {
   "cell_type": "code",
   "execution_count": 56,
   "metadata": {},
   "outputs": [
    {
     "data": {
      "image/png": "[encoded data removed]",
      "text/plain": [
       "<Figure size 432x288 with 1 Axes>"
      ]
     },
     "metadata": {
      "needs_background": "light"
     },
     "output_type": "display_data"
    }
   ],
   "source": [
    "# violin plots for dislikes by category\n",
    "ax = violinplot(x=\"category_id\", y=\"dislikes\", data=df, dodge=False)"
   ]
  },
  {
   "cell_type": "markdown",
   "metadata": {},
   "source": [
    "## Likes To Dislikes Ratio"
   ]
  },
  {
   "cell_type": "code",
   "execution_count": 57,
   "metadata": {},
   "outputs": [],
   "source": [
    "# likes to dislikes ratio\n",
    "\n",
    "ratios = defaultdict(list) # list of like/total like ratios\n",
    "\n",
    "for index, row in df.iterrows():\n",
    "    cat_id = row['category_id']\n",
    "    likes = row['likes']\n",
    "    dislikes = row['dislikes']   \n",
    "    \n",
    "    ratios[cat_id].append(likes/(likes + dislikes + 1))"
   ]
  },
  {
   "cell_type": "code",
   "execution_count": 58,
   "metadata": {},
   "outputs": [
    {
     "name": "stdout",
     "output_type": "stream",
     "text": [
      "Category: 10\n",
      "Mean Like over Total Likes Ratio: 0.9598644601194235\n",
      "Std: 0.06957890442551533\n",
      "\n",
      "Category: 23\n",
      "Mean Like over Total Likes Ratio: 0.9578437716598913\n",
      "Std: 0.05107775367350121\n",
      "\n",
      "Category: 24\n",
      "Mean Like over Total Likes Ratio: 0.9222124189727952\n",
      "Std: 0.11904129567574953\n",
      "\n",
      "Category: 25\n",
      "Mean Like over Total Likes Ratio: 0.8289871318319797\n",
      "Std: 0.18161253941959926\n",
      "\n",
      "Category: 22\n",
      "Mean Like over Total Likes Ratio: 0.9134539302638206\n",
      "Std: 0.15676654776697935\n",
      "\n",
      "Category: 26\n",
      "Mean Like over Total Likes Ratio: 0.95925801788716\n",
      "Std: 0.07284196878757732\n",
      "\n",
      "Category: 1\n",
      "Mean Like over Total Likes Ratio: 0.9145044187140503\n",
      "Std: 0.16010895213696974\n",
      "\n",
      "Category: 28\n",
      "Mean Like over Total Likes Ratio: 0.9386328618218814\n",
      "Std: 0.09646191794904048\n",
      "\n",
      "Category: 20\n",
      "Mean Like over Total Likes Ratio: 0.9400304443552293\n",
      "Std: 0.10186930161222674\n",
      "\n",
      "Category: 17\n",
      "Mean Like over Total Likes Ratio: 0.9104054297513754\n",
      "Std: 0.13583280997847036\n",
      "\n",
      "Category: 29\n",
      "Mean Like over Total Likes Ratio: 0.850647776266842\n",
      "Std: 0.23246427104655779\n",
      "\n",
      "Category: 15\n",
      "Mean Like over Total Likes Ratio: 0.9688566439961295\n",
      "Std: 0.03980280951111213\n",
      "\n",
      "Category: 19\n",
      "Mean Like over Total Likes Ratio: 0.9475948658874186\n",
      "Std: 0.08074418987152072\n",
      "\n",
      "Category: 2\n",
      "Mean Like over Total Likes Ratio: 0.9074388576654432\n",
      "Std: 0.1670773906047382\n",
      "\n",
      "Category: 27\n",
      "Mean Like over Total Likes Ratio: 0.9502423043372714\n",
      "Std: 0.07993542438999185\n",
      "\n",
      "Category: 43\n",
      "Mean Like over Total Likes Ratio: 0.8593807731290398\n",
      "Std: 0.12016745199659035\n",
      "\n",
      "Category: 30\n",
      "Mean Like over Total Likes Ratio: 0.9585989236049576\n",
      "Std: 0.010090637422302106\n",
      "\n"
     ]
    }
   ],
   "source": [
    "for cat_id in ratios:\n",
    "    \n",
    "    print(\"Category: {}\".format(cat_id))\n",
    "    print(\"Mean Like over Total Likes Ratio: {}\".format(np.mean(ratios[cat_id])))\n",
    "#     print(\"Max: {}\".format(np.max(ratios[cat_id])))\n",
    "#     print(\"Min: {}\".format(np.min(ratios[cat_id])))\n",
    "    print(\"Std: {}\".format(np.std(ratios[cat_id])))\n",
    "    print()"
   ]
  },
  {
   "cell_type": "code",
   "execution_count": null,
   "metadata": {},
   "outputs": [],
   "source": []
  },
  {
   "cell_type": "markdown",
   "metadata": {},
   "source": [
    "## Number of Tags"
   ]
  },
  {
   "cell_type": "code",
   "execution_count": 59,
   "metadata": {},
   "outputs": [],
   "source": [
    "def count_tags(s):\n",
    "    \n",
    "    tags = s.split('|')\n",
    "    return len(tags)"
   ]
  },
  {
   "cell_type": "code",
   "execution_count": 60,
   "metadata": {},
   "outputs": [],
   "source": [
    "# number of tags, count pipelines\n",
    "df['num_tags'] = df['tags'].apply(count_tags)"
   ]
  },
  {
   "cell_type": "code",
   "execution_count": 61,
   "metadata": {},
   "outputs": [
    {
     "data": {
      "text/plain": [
       "0        Eminem|\"Walk\"|\"On\"|\"Water\"|\"Aftermath/Shady/In...\n",
       "1        plush|\"bad unboxing\"|\"unboxing\"|\"fan mail\"|\"id...\n",
       "2        racist superman|\"rudy\"|\"mancuso\"|\"king\"|\"bach\"...\n",
       "3        ryan|\"higa\"|\"higatv\"|\"nigahiga\"|\"i dare you\"|\"...\n",
       "4        edsheeran|\"ed sheeran\"|\"acoustic\"|\"live\"|\"cove...\n",
       "                               ...                        \n",
       "38911    Enrique Iglesias feat. Pitbull|\"MOVE TO MIAMI\"...\n",
       "38912    jacob sartorius|\"jacob\"|\"up with it\"|\"jacob sa...\n",
       "38913    anne|\"marie\"|\"anne-marie\"|\"2002\"|\"two thousand...\n",
       "38914    Eurovision Song Contest|\"2018\"|\"Lisbon\"|\"Cypru...\n",
       "38915    Kyle|\"SuperDuperKyle\"|\"Ikuyo\"|\"2 Chainz\"|\"Soph...\n",
       "Name: tags, Length: 118268, dtype: object"
      ]
     },
     "execution_count": 61,
     "metadata": {},
     "output_type": "execute_result"
    }
   ],
   "source": [
    "df['tags']"
   ]
  },
  {
   "cell_type": "code",
   "execution_count": 62,
   "metadata": {},
   "outputs": [
    {
     "data": {
      "text/plain": [
       "0         6\n",
       "1        11\n",
       "2        23\n",
       "3        14\n",
       "4        10\n",
       "         ..\n",
       "38911     4\n",
       "38912    41\n",
       "38913    17\n",
       "38914     8\n",
       "38915    18\n",
       "Name: num_tags, Length: 118268, dtype: int64"
      ]
     },
     "execution_count": 62,
     "metadata": {},
     "output_type": "execute_result"
    }
   ],
   "source": [
    "df['num_tags']"
   ]
  },
  {
   "cell_type": "code",
   "execution_count": 63,
   "metadata": {
    "scrolled": true
   },
   "outputs": [
    {
     "data": {
      "image/png": "[encoded data removed]",
      "text/plain": [
       "<Figure size 432x288 with 1 Axes>"
      ]
     },
     "metadata": {
      "needs_background": "light"
     },
     "output_type": "display_data"
    }
   ],
   "source": [
    "# violin plots for num_tags by category\n",
    "ax = violinplot(x=\"category_id\", y=\"num_tags\", data=df, dodge=False)"
   ]
  },
  {
   "cell_type": "code",
   "execution_count": 64,
   "metadata": {},
   "outputs": [
    {
     "data": {
      "text/plain": [
       "<matplotlib.axes._subplots.AxesSubplot at 0x15e8111dd60>"
      ]
     },
     "execution_count": 64,
     "metadata": {},
     "output_type": "execute_result"
    },
    {
     "data": {
      "image/png": "[encoded data removed]",
      "text/plain": [
       "<Figure size 576x360 with 1 Axes>"
      ]
     },
     "metadata": {
      "needs_background": "light"
     },
     "output_type": "display_data"
    }
   ],
   "source": [
    "df['num_tags'].plot.hist(bins = 100, figsize=(8,5))"
   ]
  },
  {
   "cell_type": "code",
   "execution_count": 65,
   "metadata": {},
   "outputs": [
    {
     "data": {
      "text/plain": [
       "category_id\n",
       "1     18.693881\n",
       "2     18.733639\n",
       "10    15.208365\n",
       "15    24.430778\n",
       "17    22.467047\n",
       "19    21.936000\n",
       "20    18.741397\n",
       "22    16.549505\n",
       "23    21.664472\n",
       "24    21.852746\n",
       "25    17.132106\n",
       "26    22.159325\n",
       "27    21.512171\n",
       "28    17.070854\n",
       "29    15.583851\n",
       "30    26.000000\n",
       "43    22.925373\n",
       "Name: num_tags, dtype: float64"
      ]
     },
     "execution_count": 65,
     "metadata": {},
     "output_type": "execute_result"
    }
   ],
   "source": [
    "df.groupby('category_id')['num_tags'].mean()"
   ]
  },
  {
   "cell_type": "code",
   "execution_count": 66,
   "metadata": {},
   "outputs": [
    {
     "data": {
      "text/plain": [
       "category_id\n",
       "1     11.841501\n",
       "2     11.384311\n",
       "10    11.123511\n",
       "15    13.365811\n",
       "17    12.758534\n",
       "19    11.244852\n",
       "20    12.443725\n",
       "22    13.499609\n",
       "23    12.564131\n",
       "24    11.660993\n",
       "25    12.185237\n",
       "26    10.969075\n",
       "27    10.904393\n",
       "28    11.631521\n",
       "29    15.057207\n",
       "30     0.000000\n",
       "43     9.869114\n",
       "Name: num_tags, dtype: float64"
      ]
     },
     "execution_count": 66,
     "metadata": {},
     "output_type": "execute_result"
    }
   ],
   "source": [
    "df.groupby('category_id')['num_tags'].std()"
   ]
  }
 ],
 "metadata": {
  "kernelspec": {
   "display_name": "Python 3",
   "language": "python",
   "name": "python3"
  },
  "language_info": {
   "codemirror_mode": {
    "name": "ipython",
    "version": 3
   },
   "file_extension": ".py",
   "mimetype": "text/x-python",
   "name": "python",
   "nbconvert_exporter": "python",
   "pygments_lexer": "ipython3",
   "version": "3.8.3"
  }
 },
 "nbformat": 4,
 "nbformat_minor": 4
}
