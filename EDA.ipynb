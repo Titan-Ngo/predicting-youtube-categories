{
 "cells": [
  {
   "cell_type": "code",
   "execution_count": 1,
   "metadata": {},
   "outputs": [],
   "source": [
    "import numpy as np\n",
    "import pandas as pd\n",
    "import matplotlib.pyplot as plt\n",
    "import seaborn as sns"
   ]
  },
  {
   "cell_type": "code",
   "execution_count": 2,
   "metadata": {},
   "outputs": [],
   "source": [
    "# read csv\n",
    "df_CA = pd.read_csv(\"archive/CAvideos.csv\")\n",
    "df_US = pd.read_csv(\"archive/USvideos.csv\")\n",
    "df_GB = pd.read_csv(\"archive/GBvideos.csv\")"
   ]
  },
  {
   "cell_type": "code",
   "execution_count": 3,
   "metadata": {},
   "outputs": [
    {
     "data": {
      "text/html": [
       "<div>\n",
       "<style scoped>\n",
       "    .dataframe tbody tr th:only-of-type {\n",
       "        vertical-align: middle;\n",
       "    }\n",
       "\n",
       "    .dataframe tbody tr th {\n",
       "        vertical-align: top;\n",
       "    }\n",
       "\n",
       "    .dataframe thead th {\n",
       "        text-align: right;\n",
       "    }\n",
       "</style>\n",
       "<table border=\"1\" class=\"dataframe\">\n",
       "  <thead>\n",
       "    <tr style=\"text-align: right;\">\n",
       "      <th></th>\n",
       "      <th>video_id</th>\n",
       "      <th>trending_date</th>\n",
       "      <th>title</th>\n",
       "      <th>channel_title</th>\n",
       "      <th>category_id</th>\n",
       "      <th>publish_time</th>\n",
       "      <th>tags</th>\n",
       "      <th>views</th>\n",
       "      <th>likes</th>\n",
       "      <th>dislikes</th>\n",
       "      <th>comment_count</th>\n",
       "      <th>thumbnail_link</th>\n",
       "      <th>comments_disabled</th>\n",
       "      <th>ratings_disabled</th>\n",
       "      <th>video_error_or_removed</th>\n",
       "      <th>description</th>\n",
       "    </tr>\n",
       "  </thead>\n",
       "  <tbody>\n",
       "    <tr>\n",
       "      <td>0</td>\n",
       "      <td>n1WpP7iowLc</td>\n",
       "      <td>17.14.11</td>\n",
       "      <td>Eminem - Walk On Water (Audio) ft. Beyoncé</td>\n",
       "      <td>EminemVEVO</td>\n",
       "      <td>10</td>\n",
       "      <td>2017-11-10T17:00:03.000Z</td>\n",
       "      <td>Eminem|\"Walk\"|\"On\"|\"Water\"|\"Aftermath/Shady/In...</td>\n",
       "      <td>17158579</td>\n",
       "      <td>787425</td>\n",
       "      <td>43420</td>\n",
       "      <td>125882</td>\n",
       "      <td>https://i.ytimg.com/vi/n1WpP7iowLc/default.jpg</td>\n",
       "      <td>False</td>\n",
       "      <td>False</td>\n",
       "      <td>False</td>\n",
       "      <td>Eminem's new track Walk on Water ft. Beyoncé i...</td>\n",
       "    </tr>\n",
       "    <tr>\n",
       "      <td>1</td>\n",
       "      <td>0dBIkQ4Mz1M</td>\n",
       "      <td>17.14.11</td>\n",
       "      <td>PLUSH - Bad Unboxing Fan Mail</td>\n",
       "      <td>iDubbbzTV</td>\n",
       "      <td>23</td>\n",
       "      <td>2017-11-13T17:00:00.000Z</td>\n",
       "      <td>plush|\"bad unboxing\"|\"unboxing\"|\"fan mail\"|\"id...</td>\n",
       "      <td>1014651</td>\n",
       "      <td>127794</td>\n",
       "      <td>1688</td>\n",
       "      <td>13030</td>\n",
       "      <td>https://i.ytimg.com/vi/0dBIkQ4Mz1M/default.jpg</td>\n",
       "      <td>False</td>\n",
       "      <td>False</td>\n",
       "      <td>False</td>\n",
       "      <td>STill got a lot of packages. Probably will las...</td>\n",
       "    </tr>\n",
       "    <tr>\n",
       "      <td>2</td>\n",
       "      <td>5qpjK5DgCt4</td>\n",
       "      <td>17.14.11</td>\n",
       "      <td>Racist Superman | Rudy Mancuso, King Bach &amp; Le...</td>\n",
       "      <td>Rudy Mancuso</td>\n",
       "      <td>23</td>\n",
       "      <td>2017-11-12T19:05:24.000Z</td>\n",
       "      <td>racist superman|\"rudy\"|\"mancuso\"|\"king\"|\"bach\"...</td>\n",
       "      <td>3191434</td>\n",
       "      <td>146035</td>\n",
       "      <td>5339</td>\n",
       "      <td>8181</td>\n",
       "      <td>https://i.ytimg.com/vi/5qpjK5DgCt4/default.jpg</td>\n",
       "      <td>False</td>\n",
       "      <td>False</td>\n",
       "      <td>False</td>\n",
       "      <td>WATCH MY PREVIOUS VIDEO ▶ \\n\\nSUBSCRIBE ► http...</td>\n",
       "    </tr>\n",
       "    <tr>\n",
       "      <td>3</td>\n",
       "      <td>d380meD0W0M</td>\n",
       "      <td>17.14.11</td>\n",
       "      <td>I Dare You: GOING BALD!?</td>\n",
       "      <td>nigahiga</td>\n",
       "      <td>24</td>\n",
       "      <td>2017-11-12T18:01:41.000Z</td>\n",
       "      <td>ryan|\"higa\"|\"higatv\"|\"nigahiga\"|\"i dare you\"|\"...</td>\n",
       "      <td>2095828</td>\n",
       "      <td>132239</td>\n",
       "      <td>1989</td>\n",
       "      <td>17518</td>\n",
       "      <td>https://i.ytimg.com/vi/d380meD0W0M/default.jpg</td>\n",
       "      <td>False</td>\n",
       "      <td>False</td>\n",
       "      <td>False</td>\n",
       "      <td>I know it's been a while since we did this sho...</td>\n",
       "    </tr>\n",
       "    <tr>\n",
       "      <td>4</td>\n",
       "      <td>2Vv-BfVoq4g</td>\n",
       "      <td>17.14.11</td>\n",
       "      <td>Ed Sheeran - Perfect (Official Music Video)</td>\n",
       "      <td>Ed Sheeran</td>\n",
       "      <td>10</td>\n",
       "      <td>2017-11-09T11:04:14.000Z</td>\n",
       "      <td>edsheeran|\"ed sheeran\"|\"acoustic\"|\"live\"|\"cove...</td>\n",
       "      <td>33523622</td>\n",
       "      <td>1634130</td>\n",
       "      <td>21082</td>\n",
       "      <td>85067</td>\n",
       "      <td>https://i.ytimg.com/vi/2Vv-BfVoq4g/default.jpg</td>\n",
       "      <td>False</td>\n",
       "      <td>False</td>\n",
       "      <td>False</td>\n",
       "      <td>🎧: https://ad.gt/yt-perfect\\n💰: https://atlant...</td>\n",
       "    </tr>\n",
       "    <tr>\n",
       "      <td>...</td>\n",
       "      <td>...</td>\n",
       "      <td>...</td>\n",
       "      <td>...</td>\n",
       "      <td>...</td>\n",
       "      <td>...</td>\n",
       "      <td>...</td>\n",
       "      <td>...</td>\n",
       "      <td>...</td>\n",
       "      <td>...</td>\n",
       "      <td>...</td>\n",
       "      <td>...</td>\n",
       "      <td>...</td>\n",
       "      <td>...</td>\n",
       "      <td>...</td>\n",
       "      <td>...</td>\n",
       "      <td>...</td>\n",
       "    </tr>\n",
       "    <tr>\n",
       "      <td>40876</td>\n",
       "      <td>sGolxsMSGfQ</td>\n",
       "      <td>18.14.06</td>\n",
       "      <td>HOW2: How to Solve a Mystery</td>\n",
       "      <td>Annoying Orange</td>\n",
       "      <td>24</td>\n",
       "      <td>2018-06-13T18:00:07.000Z</td>\n",
       "      <td>annoying orange|\"funny\"|\"fruit\"|\"talking\"|\"ani...</td>\n",
       "      <td>80685</td>\n",
       "      <td>1701</td>\n",
       "      <td>99</td>\n",
       "      <td>1312</td>\n",
       "      <td>https://i.ytimg.com/vi/sGolxsMSGfQ/default.jpg</td>\n",
       "      <td>False</td>\n",
       "      <td>False</td>\n",
       "      <td>False</td>\n",
       "      <td>🚨 NEW MERCH! http://amzn.to/annoyingorange 🚨➤ ...</td>\n",
       "    </tr>\n",
       "    <tr>\n",
       "      <td>40877</td>\n",
       "      <td>8HNuRNi8t70</td>\n",
       "      <td>18.14.06</td>\n",
       "      <td>Eli Lik Lik Episode 13 Partie 01</td>\n",
       "      <td>Elhiwar Ettounsi</td>\n",
       "      <td>24</td>\n",
       "      <td>2018-06-13T19:01:18.000Z</td>\n",
       "      <td>hkayet tounsia|\"elhiwar ettounsi\"|\"denya okhra...</td>\n",
       "      <td>103339</td>\n",
       "      <td>460</td>\n",
       "      <td>66</td>\n",
       "      <td>51</td>\n",
       "      <td>https://i.ytimg.com/vi/8HNuRNi8t70/default.jpg</td>\n",
       "      <td>False</td>\n",
       "      <td>False</td>\n",
       "      <td>False</td>\n",
       "      <td>► Retrouvez vos programmes préférés : https://...</td>\n",
       "    </tr>\n",
       "    <tr>\n",
       "      <td>40878</td>\n",
       "      <td>GWlKEM3m2EE</td>\n",
       "      <td>18.14.06</td>\n",
       "      <td>KINGDOM HEARTS III – SQUARE ENIX E3 SHOWCASE 2...</td>\n",
       "      <td>Kingdom Hearts</td>\n",
       "      <td>20</td>\n",
       "      <td>2018-06-11T17:30:53.000Z</td>\n",
       "      <td>Kingdom Hearts|\"KH3\"|\"Kingdom Hearts 3\"|\"Froze...</td>\n",
       "      <td>773347</td>\n",
       "      <td>25900</td>\n",
       "      <td>224</td>\n",
       "      <td>3881</td>\n",
       "      <td>https://i.ytimg.com/vi/GWlKEM3m2EE/default.jpg</td>\n",
       "      <td>False</td>\n",
       "      <td>False</td>\n",
       "      <td>False</td>\n",
       "      <td>Find out more about Kingdom Hearts 3: https://...</td>\n",
       "    </tr>\n",
       "    <tr>\n",
       "      <td>40879</td>\n",
       "      <td>lbMKLzQ4cNQ</td>\n",
       "      <td>18.14.06</td>\n",
       "      <td>Trump Advisor Grovels To Trudeau</td>\n",
       "      <td>The Young Turks</td>\n",
       "      <td>25</td>\n",
       "      <td>2018-06-13T04:00:05.000Z</td>\n",
       "      <td>180612__TB02SorryExcuse|\"News\"|\"Politics\"|\"The...</td>\n",
       "      <td>115225</td>\n",
       "      <td>2115</td>\n",
       "      <td>182</td>\n",
       "      <td>1672</td>\n",
       "      <td>https://i.ytimg.com/vi/lbMKLzQ4cNQ/default.jpg</td>\n",
       "      <td>False</td>\n",
       "      <td>False</td>\n",
       "      <td>False</td>\n",
       "      <td>Peter Navarro isn’t talking so tough now. Ana ...</td>\n",
       "    </tr>\n",
       "    <tr>\n",
       "      <td>40880</td>\n",
       "      <td>POTgw38-m58</td>\n",
       "      <td>18.14.06</td>\n",
       "      <td>【完整版】遇到恐怖情人該怎麼辦？2018.06.13小明星大跟班</td>\n",
       "      <td>我愛小明星大跟班</td>\n",
       "      <td>24</td>\n",
       "      <td>2018-06-13T16:00:03.000Z</td>\n",
       "      <td>吳宗憲|\"吳姍儒\"|\"小明星大跟班\"|\"Sandy\"|\"Jacky wu\"|\"憲哥\"|\"中天...</td>\n",
       "      <td>107392</td>\n",
       "      <td>300</td>\n",
       "      <td>62</td>\n",
       "      <td>251</td>\n",
       "      <td>https://i.ytimg.com/vi/POTgw38-m58/default.jpg</td>\n",
       "      <td>False</td>\n",
       "      <td>False</td>\n",
       "      <td>False</td>\n",
       "      <td>藝人：李妍瑾、玉兔、班傑、LaLa、小優、少少專家：陳筱屏(律師)、Wendy(心理師)、羅...</td>\n",
       "    </tr>\n",
       "  </tbody>\n",
       "</table>\n",
       "<p>40881 rows × 16 columns</p>\n",
       "</div>"
      ],
      "text/plain": [
       "          video_id trending_date  \\\n",
       "0      n1WpP7iowLc      17.14.11   \n",
       "1      0dBIkQ4Mz1M      17.14.11   \n",
       "2      5qpjK5DgCt4      17.14.11   \n",
       "3      d380meD0W0M      17.14.11   \n",
       "4      2Vv-BfVoq4g      17.14.11   \n",
       "...            ...           ...   \n",
       "40876  sGolxsMSGfQ      18.14.06   \n",
       "40877  8HNuRNi8t70      18.14.06   \n",
       "40878  GWlKEM3m2EE      18.14.06   \n",
       "40879  lbMKLzQ4cNQ      18.14.06   \n",
       "40880  POTgw38-m58      18.14.06   \n",
       "\n",
       "                                                   title     channel_title  \\\n",
       "0             Eminem - Walk On Water (Audio) ft. Beyoncé        EminemVEVO   \n",
       "1                          PLUSH - Bad Unboxing Fan Mail         iDubbbzTV   \n",
       "2      Racist Superman | Rudy Mancuso, King Bach & Le...      Rudy Mancuso   \n",
       "3                               I Dare You: GOING BALD!?          nigahiga   \n",
       "4            Ed Sheeran - Perfect (Official Music Video)        Ed Sheeran   \n",
       "...                                                  ...               ...   \n",
       "40876                       HOW2: How to Solve a Mystery   Annoying Orange   \n",
       "40877                   Eli Lik Lik Episode 13 Partie 01  Elhiwar Ettounsi   \n",
       "40878  KINGDOM HEARTS III – SQUARE ENIX E3 SHOWCASE 2...    Kingdom Hearts   \n",
       "40879                   Trump Advisor Grovels To Trudeau   The Young Turks   \n",
       "40880                   【完整版】遇到恐怖情人該怎麼辦？2018.06.13小明星大跟班          我愛小明星大跟班   \n",
       "\n",
       "       category_id              publish_time  \\\n",
       "0               10  2017-11-10T17:00:03.000Z   \n",
       "1               23  2017-11-13T17:00:00.000Z   \n",
       "2               23  2017-11-12T19:05:24.000Z   \n",
       "3               24  2017-11-12T18:01:41.000Z   \n",
       "4               10  2017-11-09T11:04:14.000Z   \n",
       "...            ...                       ...   \n",
       "40876           24  2018-06-13T18:00:07.000Z   \n",
       "40877           24  2018-06-13T19:01:18.000Z   \n",
       "40878           20  2018-06-11T17:30:53.000Z   \n",
       "40879           25  2018-06-13T04:00:05.000Z   \n",
       "40880           24  2018-06-13T16:00:03.000Z   \n",
       "\n",
       "                                                    tags     views    likes  \\\n",
       "0      Eminem|\"Walk\"|\"On\"|\"Water\"|\"Aftermath/Shady/In...  17158579   787425   \n",
       "1      plush|\"bad unboxing\"|\"unboxing\"|\"fan mail\"|\"id...   1014651   127794   \n",
       "2      racist superman|\"rudy\"|\"mancuso\"|\"king\"|\"bach\"...   3191434   146035   \n",
       "3      ryan|\"higa\"|\"higatv\"|\"nigahiga\"|\"i dare you\"|\"...   2095828   132239   \n",
       "4      edsheeran|\"ed sheeran\"|\"acoustic\"|\"live\"|\"cove...  33523622  1634130   \n",
       "...                                                  ...       ...      ...   \n",
       "40876  annoying orange|\"funny\"|\"fruit\"|\"talking\"|\"ani...     80685     1701   \n",
       "40877  hkayet tounsia|\"elhiwar ettounsi\"|\"denya okhra...    103339      460   \n",
       "40878  Kingdom Hearts|\"KH3\"|\"Kingdom Hearts 3\"|\"Froze...    773347    25900   \n",
       "40879  180612__TB02SorryExcuse|\"News\"|\"Politics\"|\"The...    115225     2115   \n",
       "40880  吳宗憲|\"吳姍儒\"|\"小明星大跟班\"|\"Sandy\"|\"Jacky wu\"|\"憲哥\"|\"中天...    107392      300   \n",
       "\n",
       "       dislikes  comment_count  \\\n",
       "0         43420         125882   \n",
       "1          1688          13030   \n",
       "2          5339           8181   \n",
       "3          1989          17518   \n",
       "4         21082          85067   \n",
       "...         ...            ...   \n",
       "40876        99           1312   \n",
       "40877        66             51   \n",
       "40878       224           3881   \n",
       "40879       182           1672   \n",
       "40880        62            251   \n",
       "\n",
       "                                       thumbnail_link  comments_disabled  \\\n",
       "0      https://i.ytimg.com/vi/n1WpP7iowLc/default.jpg              False   \n",
       "1      https://i.ytimg.com/vi/0dBIkQ4Mz1M/default.jpg              False   \n",
       "2      https://i.ytimg.com/vi/5qpjK5DgCt4/default.jpg              False   \n",
       "3      https://i.ytimg.com/vi/d380meD0W0M/default.jpg              False   \n",
       "4      https://i.ytimg.com/vi/2Vv-BfVoq4g/default.jpg              False   \n",
       "...                                               ...                ...   \n",
       "40876  https://i.ytimg.com/vi/sGolxsMSGfQ/default.jpg              False   \n",
       "40877  https://i.ytimg.com/vi/8HNuRNi8t70/default.jpg              False   \n",
       "40878  https://i.ytimg.com/vi/GWlKEM3m2EE/default.jpg              False   \n",
       "40879  https://i.ytimg.com/vi/lbMKLzQ4cNQ/default.jpg              False   \n",
       "40880  https://i.ytimg.com/vi/POTgw38-m58/default.jpg              False   \n",
       "\n",
       "       ratings_disabled  video_error_or_removed  \\\n",
       "0                 False                   False   \n",
       "1                 False                   False   \n",
       "2                 False                   False   \n",
       "3                 False                   False   \n",
       "4                 False                   False   \n",
       "...                 ...                     ...   \n",
       "40876             False                   False   \n",
       "40877             False                   False   \n",
       "40878             False                   False   \n",
       "40879             False                   False   \n",
       "40880             False                   False   \n",
       "\n",
       "                                             description  \n",
       "0      Eminem's new track Walk on Water ft. Beyoncé i...  \n",
       "1      STill got a lot of packages. Probably will las...  \n",
       "2      WATCH MY PREVIOUS VIDEO ▶ \\n\\nSUBSCRIBE ► http...  \n",
       "3      I know it's been a while since we did this sho...  \n",
       "4      🎧: https://ad.gt/yt-perfect\\n💰: https://atlant...  \n",
       "...                                                  ...  \n",
       "40876  🚨 NEW MERCH! http://amzn.to/annoyingorange 🚨➤ ...  \n",
       "40877  ► Retrouvez vos programmes préférés : https://...  \n",
       "40878  Find out more about Kingdom Hearts 3: https://...  \n",
       "40879  Peter Navarro isn’t talking so tough now. Ana ...  \n",
       "40880  藝人：李妍瑾、玉兔、班傑、LaLa、小優、少少專家：陳筱屏(律師)、Wendy(心理師)、羅...  \n",
       "\n",
       "[40881 rows x 16 columns]"
      ]
     },
     "execution_count": 3,
     "metadata": {},
     "output_type": "execute_result"
    }
   ],
   "source": [
    "df_CA"
   ]
  },
  {
   "cell_type": "code",
   "execution_count": 4,
   "metadata": {},
   "outputs": [
    {
     "name": "stdout",
     "output_type": "stream",
     "text": [
      "['video_id', 'trending_date', 'title', 'channel_title', 'category_id', 'publish_time', 'tags', 'views', 'likes', 'dislikes', 'comment_count', 'thumbnail_link', 'comments_disabled', 'ratings_disabled', 'video_error_or_removed', 'description']\n"
     ]
    }
   ],
   "source": [
    "print(list(df_CA.columns.values))"
   ]
  },
  {
   "cell_type": "code",
   "execution_count": 5,
   "metadata": {},
   "outputs": [
    {
     "name": "stdout",
     "output_type": "stream",
     "text": [
      "40881 40949 38916\n"
     ]
    }
   ],
   "source": [
    "print(len(df_CA), len(df_US), len(df_GB))"
   ]
  },
  {
   "cell_type": "code",
   "execution_count": 6,
   "metadata": {},
   "outputs": [
    {
     "data": {
      "text/plain": [
       "120746"
      ]
     },
     "execution_count": 6,
     "metadata": {},
     "output_type": "execute_result"
    }
   ],
   "source": [
    "df = pd.concat([df_CA , df_US, df_GB])\n",
    "len(df)"
   ]
  },
  {
   "cell_type": "code",
   "execution_count": 7,
   "metadata": {},
   "outputs": [],
   "source": [
    "# only keep ['video_id', 'title', 'channel_title', 'category_id', 'description']\n",
    "df = df[['video_id', 'title', 'category_id', 'tags','description']]"
   ]
  },
  {
   "cell_type": "code",
   "execution_count": 8,
   "metadata": {},
   "outputs": [
    {
     "name": "stdout",
     "output_type": "stream",
     "text": [
      "0 0 0 0 2478\n"
     ]
    }
   ],
   "source": [
    "a = df['video_id'].isna().sum()\n",
    "b = df['title'].isna().sum()\n",
    "c = df['category_id'].isna().sum()\n",
    "d = df['tags'].isna().sum()\n",
    "e = df['description'].isna().sum()\n",
    "\n",
    "print(a, b, c, d, e)"
   ]
  },
  {
   "cell_type": "code",
   "execution_count": 9,
   "metadata": {},
   "outputs": [
    {
     "data": {
      "text/plain": [
       "118268"
      ]
     },
     "execution_count": 9,
     "metadata": {},
     "output_type": "execute_result"
    }
   ],
   "source": [
    "df = df.dropna()\n",
    "len(df)"
   ]
  },
  {
   "cell_type": "markdown",
   "metadata": {},
   "source": [
    "Identify a dataset to study, and perform an exploratory analysis of the data. Describe the dataset,\n",
    "including its basic statistics and properties, and report any interesting findings. This exploratory analysis\n",
    "should motivate the design of your model in the following sections"
   ]
  },
  {
   "cell_type": "code",
   "execution_count": 10,
   "metadata": {},
   "outputs": [
    {
     "data": {
      "text/plain": [
       "Text(0.5, 1.0, 'Distribution of Category IDs')"
      ]
     },
     "execution_count": 10,
     "metadata": {},
     "output_type": "execute_result"
    },
    {
     "data": {
      "image/png": "[encoded data removed]",
      "text/plain": [
       "<Figure size 576x360 with 1 Axes>"
      ]
     },
     "metadata": {
      "needs_background": "light"
     },
     "output_type": "display_data"
    }
   ],
   "source": [
    "df['category_id'].plot.hist(bins = 60, figsize=(8,5))\n",
    "plt.xlabel('Category IDs')\n",
    "plt.ylabel('Frequency')\n",
    "plt.title('Distribution of Category IDs')"
   ]
  },
  {
   "cell_type": "code",
   "execution_count": 11,
   "metadata": {},
   "outputs": [],
   "source": [
    "cat_list = df['category_id'].to_list()"
   ]
  },
  {
   "cell_type": "code",
   "execution_count": 12,
   "metadata": {},
   "outputs": [],
   "source": [
    "from collections import Counter"
   ]
  },
  {
   "cell_type": "code",
   "execution_count": 13,
   "metadata": {},
   "outputs": [
    {
     "data": {
      "text/plain": [
       "17"
      ]
     },
     "execution_count": 13,
     "metadata": {},
     "output_type": "execute_result"
    }
   ],
   "source": [
    "cat_counter = Counter(cat_list)\n",
    "len(cat_counter.keys())"
   ]
  },
  {
   "cell_type": "code",
   "execution_count": 14,
   "metadata": {},
   "outputs": [
    {
     "data": {
      "text/plain": [
       "[(24, 31972),\n",
       " (10, 23790),\n",
       " (22, 9605),\n",
       " (23, 8962),\n",
       " (26, 8059),\n",
       " (25, 7441),\n",
       " (1, 6896),\n",
       " (17, 6661),\n",
       " (28, 3980),\n",
       " (20, 3894),\n",
       " (27, 3081),\n",
       " (15, 1813),\n",
       " (19, 875),\n",
       " (2, 871),\n",
       " (43, 201),\n",
       " (29, 161),\n",
       " (30, 6)]"
      ]
     },
     "execution_count": 14,
     "metadata": {},
     "output_type": "execute_result"
    }
   ],
   "source": [
    "cat_counter.most_common(len(cat_counter.keys()))"
   ]
  },
  {
   "cell_type": "code",
   "execution_count": 15,
   "metadata": {},
   "outputs": [
    {
     "data": {
      "text/plain": [
       "dict_keys([10, 23, 24, 25, 22, 26, 1, 28, 20, 17, 29, 15, 19, 2, 27, 43, 30])"
      ]
     },
     "execution_count": 15,
     "metadata": {},
     "output_type": "execute_result"
    }
   ],
   "source": [
    "# unique vals\n",
    "cat_counter.keys()"
   ]
  },
  {
   "cell_type": "code",
   "execution_count": 16,
   "metadata": {},
   "outputs": [
    {
     "name": "stdout",
     "output_type": "stream",
     "text": [
      "0.2703351709676328\n",
      "0.20115331281496263\n"
     ]
    }
   ],
   "source": [
    "print((cat_counter.most_common(1))[0][1]/len(cat_list))\n",
    "print((cat_counter.most_common(2))[1][1]/len(cat_list))"
   ]
  },
  {
   "cell_type": "code",
   "execution_count": 17,
   "metadata": {},
   "outputs": [
    {
     "name": "stderr",
     "output_type": "stream",
     "text": [
      "/Users/luckilyclueless/opt/anaconda3/lib/python3.7/site-packages/ipykernel_launcher.py:7: MatplotlibDeprecationWarning: Non-1D inputs to pie() are currently squeeze()d, but this behavior is deprecated since 3.1 and will be removed in 3.3; pass a 1D array instead.\n",
      "  import sys\n"
     ]
    },
    {
     "data": {
      "image/png": "[encoded data removed]",
      "text/plain": [
       "<Figure size 432x288 with 1 Axes>"
      ]
     },
     "metadata": {},
     "output_type": "display_data"
    }
   ],
   "source": [
    "cats = df['category_id'].value_counts()\n",
    "cat_chart = [cats]\n",
    "\n",
    "\n",
    "my_labels = [str(key) for key in cat_counter.keys()]\n",
    "\n",
    "plt.pie(cat_chart, labels=my_labels)\n",
    "\n",
    "plt.title('Youtube Categories')\n",
    "plt.axis('equal')\n",
    "\n",
    "plt.show()"
   ]
  },
  {
   "cell_type": "code",
   "execution_count": 18,
   "metadata": {},
   "outputs": [
    {
     "data": {
      "text/plain": [
       "{1, 10, 17, 20, 22, 23, 24, 25, 26, 28}"
      ]
     },
     "execution_count": 18,
     "metadata": {},
     "output_type": "execute_result"
    }
   ],
   "source": [
    "# getting rid of all ids after 17, the top 10\n",
    "top_cats = cat_counter.keys()\n",
    "top_cats = list(top_cats)[0:10]\n",
    "top_cats = set(top_cats)\n",
    "top_cats"
   ]
  },
  {
   "cell_type": "code",
   "execution_count": 19,
   "metadata": {},
   "outputs": [],
   "source": [
    "# df containing only the top 10\n",
    "new_df = pd.DataFrame()\n",
    "\n",
    "for cat in top_cats:\n",
    "    new_df = pd.concat([new_df , df[df['category_id'] == cat] ]) "
   ]
  },
  {
   "cell_type": "code",
   "execution_count": 20,
   "metadata": {},
   "outputs": [
    {
     "data": {
      "text/plain": [
       "111260"
      ]
     },
     "execution_count": 20,
     "metadata": {},
     "output_type": "execute_result"
    }
   ],
   "source": [
    "len(new_df)"
   ]
  },
  {
   "cell_type": "code",
   "execution_count": 21,
   "metadata": {},
   "outputs": [
    {
     "data": {
      "text/plain": [
       "[(24, 31972),\n",
       " (10, 23790),\n",
       " (22, 9605),\n",
       " (23, 8962),\n",
       " (26, 8059),\n",
       " (25, 7441),\n",
       " (1, 6896),\n",
       " (17, 6661),\n",
       " (28, 3980),\n",
       " (20, 3894)]"
      ]
     },
     "execution_count": 21,
     "metadata": {},
     "output_type": "execute_result"
    }
   ],
   "source": [
    "cat_list = new_df['category_id'].to_list()\n",
    "cat_counter = Counter(cat_list)\n",
    "cat_counter.most_common(len(cat_counter.keys()))"
   ]
  },
  {
   "cell_type": "code",
   "execution_count": 22,
   "metadata": {},
   "outputs": [],
   "source": [
    "# the data to work with\n",
    "df = new_df"
   ]
  },
  {
   "cell_type": "code",
   "execution_count": 23,
   "metadata": {},
   "outputs": [
    {
     "data": {
      "text/html": [
       "<div>\n",
       "<style scoped>\n",
       "    .dataframe tbody tr th:only-of-type {\n",
       "        vertical-align: middle;\n",
       "    }\n",
       "\n",
       "    .dataframe tbody tr th {\n",
       "        vertical-align: top;\n",
       "    }\n",
       "\n",
       "    .dataframe thead th {\n",
       "        text-align: right;\n",
       "    }\n",
       "</style>\n",
       "<table border=\"1\" class=\"dataframe\">\n",
       "  <thead>\n",
       "    <tr style=\"text-align: right;\">\n",
       "      <th></th>\n",
       "      <th>video_id</th>\n",
       "      <th>title</th>\n",
       "      <th>category_id</th>\n",
       "      <th>tags</th>\n",
       "      <th>description</th>\n",
       "    </tr>\n",
       "  </thead>\n",
       "  <tbody>\n",
       "    <tr>\n",
       "      <td>12</td>\n",
       "      <td>FyZMnhUtLfE</td>\n",
       "      <td>猎场 | Game Of Hunting 12【TV版】（胡歌、張嘉譯、祖峰等主演）</td>\n",
       "      <td>1</td>\n",
       "      <td>電視劇|\"大陸電視劇\"|\"猎场\"|\"职场\"|\"商战\"|\"爱情\"|\"都市\"|\"胡歌\"|\"陈龙\"...</td>\n",
       "      <td>Thanks for watching the drama! Help more peopl...</td>\n",
       "    </tr>\n",
       "    <tr>\n",
       "      <td>18</td>\n",
       "      <td>fy-CuCzaPp8</td>\n",
       "      <td>Rooster Teeth Animated Adventures - Drunk Baby...</td>\n",
       "      <td>1</td>\n",
       "      <td>Rooster Teeth|\"RT\"|\"animation\"|\"television\"|\"f...</td>\n",
       "      <td>Miles gets stuck at work one night watching ov...</td>\n",
       "    </tr>\n",
       "    <tr>\n",
       "      <td>19</td>\n",
       "      <td>kzwfHumJyYc</td>\n",
       "      <td>Sharry Mann: Cute Munda ( Song Teaser) | Parmi...</td>\n",
       "      <td>1</td>\n",
       "      <td>sharry mann|\"sharry mann new song\"|\"sharry man...</td>\n",
       "      <td>Presenting Sharry Mann latest Punjabi Song  Cu...</td>\n",
       "    </tr>\n",
       "    <tr>\n",
       "      <td>45</td>\n",
       "      <td>-Toujzk3ysk</td>\n",
       "      <td>Gerrymandering, Conservative Comedians, Bobby ...</td>\n",
       "      <td>1</td>\n",
       "      <td>DNC Chairwoman Donna Brazile|\"Hacks\"|\"The Insi...</td>\n",
       "      <td>Subscribe to the Real Time YouTube: http://its...</td>\n",
       "    </tr>\n",
       "    <tr>\n",
       "      <td>103</td>\n",
       "      <td>kOnQocd799Y</td>\n",
       "      <td>Everything Wrong With Baby Driver In 14 Minute...</td>\n",
       "      <td>1</td>\n",
       "      <td>baby driver|\"edgar wright\"|\"everything wrong w...</td>\n",
       "      <td>Here's a movie that most people, including us,...</td>\n",
       "    </tr>\n",
       "    <tr>\n",
       "      <td>...</td>\n",
       "      <td>...</td>\n",
       "      <td>...</td>\n",
       "      <td>...</td>\n",
       "      <td>...</td>\n",
       "      <td>...</td>\n",
       "    </tr>\n",
       "    <tr>\n",
       "      <td>34642</td>\n",
       "      <td>QpFcf7uBacI</td>\n",
       "      <td>OnePlus 6 - The Speed You Need Live Launch Event</td>\n",
       "      <td>28</td>\n",
       "      <td>oneplus|\"oneplus6\"</td>\n",
       "      <td>Witness the unveiling of the OnePlus 6 at the ...</td>\n",
       "    </tr>\n",
       "    <tr>\n",
       "      <td>34807</td>\n",
       "      <td>QpFcf7uBacI</td>\n",
       "      <td>OnePlus 6 - The Speed You Need Live Launch Event</td>\n",
       "      <td>28</td>\n",
       "      <td>oneplus|\"oneplus6\"</td>\n",
       "      <td>Witness the unveiling of the OnePlus 6 at the ...</td>\n",
       "    </tr>\n",
       "    <tr>\n",
       "      <td>34966</td>\n",
       "      <td>QpFcf7uBacI</td>\n",
       "      <td>OnePlus 6 - The Speed You Need Live Launch Event</td>\n",
       "      <td>28</td>\n",
       "      <td>oneplus|\"oneplus6\"</td>\n",
       "      <td>Witness the unveiling of the OnePlus 6 at the ...</td>\n",
       "    </tr>\n",
       "    <tr>\n",
       "      <td>35122</td>\n",
       "      <td>QpFcf7uBacI</td>\n",
       "      <td>OnePlus 6 - The Speed You Need Live Launch Event</td>\n",
       "      <td>28</td>\n",
       "      <td>oneplus|\"oneplus6\"</td>\n",
       "      <td>Witness the unveiling of the OnePlus 6 at the ...</td>\n",
       "    </tr>\n",
       "    <tr>\n",
       "      <td>35283</td>\n",
       "      <td>QpFcf7uBacI</td>\n",
       "      <td>OnePlus 6 - The Speed You Need Live Launch Event</td>\n",
       "      <td>28</td>\n",
       "      <td>oneplus|\"oneplus6\"</td>\n",
       "      <td>Witness the unveiling of the OnePlus 6 at the ...</td>\n",
       "    </tr>\n",
       "  </tbody>\n",
       "</table>\n",
       "<p>111260 rows × 5 columns</p>\n",
       "</div>"
      ],
      "text/plain": [
       "          video_id                                              title  \\\n",
       "12     FyZMnhUtLfE         猎场 | Game Of Hunting 12【TV版】（胡歌、張嘉譯、祖峰等主演）   \n",
       "18     fy-CuCzaPp8  Rooster Teeth Animated Adventures - Drunk Baby...   \n",
       "19     kzwfHumJyYc  Sharry Mann: Cute Munda ( Song Teaser) | Parmi...   \n",
       "45     -Toujzk3ysk  Gerrymandering, Conservative Comedians, Bobby ...   \n",
       "103    kOnQocd799Y  Everything Wrong With Baby Driver In 14 Minute...   \n",
       "...            ...                                                ...   \n",
       "34642  QpFcf7uBacI   OnePlus 6 - The Speed You Need Live Launch Event   \n",
       "34807  QpFcf7uBacI   OnePlus 6 - The Speed You Need Live Launch Event   \n",
       "34966  QpFcf7uBacI   OnePlus 6 - The Speed You Need Live Launch Event   \n",
       "35122  QpFcf7uBacI   OnePlus 6 - The Speed You Need Live Launch Event   \n",
       "35283  QpFcf7uBacI   OnePlus 6 - The Speed You Need Live Launch Event   \n",
       "\n",
       "       category_id                                               tags  \\\n",
       "12               1  電視劇|\"大陸電視劇\"|\"猎场\"|\"职场\"|\"商战\"|\"爱情\"|\"都市\"|\"胡歌\"|\"陈龙\"...   \n",
       "18               1  Rooster Teeth|\"RT\"|\"animation\"|\"television\"|\"f...   \n",
       "19               1  sharry mann|\"sharry mann new song\"|\"sharry man...   \n",
       "45               1  DNC Chairwoman Donna Brazile|\"Hacks\"|\"The Insi...   \n",
       "103              1  baby driver|\"edgar wright\"|\"everything wrong w...   \n",
       "...            ...                                                ...   \n",
       "34642           28                                 oneplus|\"oneplus6\"   \n",
       "34807           28                                 oneplus|\"oneplus6\"   \n",
       "34966           28                                 oneplus|\"oneplus6\"   \n",
       "35122           28                                 oneplus|\"oneplus6\"   \n",
       "35283           28                                 oneplus|\"oneplus6\"   \n",
       "\n",
       "                                             description  \n",
       "12     Thanks for watching the drama! Help more peopl...  \n",
       "18     Miles gets stuck at work one night watching ov...  \n",
       "19     Presenting Sharry Mann latest Punjabi Song  Cu...  \n",
       "45     Subscribe to the Real Time YouTube: http://its...  \n",
       "103    Here's a movie that most people, including us,...  \n",
       "...                                                  ...  \n",
       "34642  Witness the unveiling of the OnePlus 6 at the ...  \n",
       "34807  Witness the unveiling of the OnePlus 6 at the ...  \n",
       "34966  Witness the unveiling of the OnePlus 6 at the ...  \n",
       "35122  Witness the unveiling of the OnePlus 6 at the ...  \n",
       "35283  Witness the unveiling of the OnePlus 6 at the ...  \n",
       "\n",
       "[111260 rows x 5 columns]"
      ]
     },
     "execution_count": 23,
     "metadata": {},
     "output_type": "execute_result"
    }
   ],
   "source": [
    "df"
   ]
  },
  {
   "cell_type": "code",
   "execution_count": 24,
   "metadata": {},
   "outputs": [
    {
     "data": {
      "text/plain": [
       "video_id                                             FyZMnhUtLfE\n",
       "title                 猎场 | Game Of Hunting 12【TV版】（胡歌、張嘉譯、祖峰等主演）\n",
       "category_id                                                    1\n",
       "tags           電視劇|\"大陸電視劇\"|\"猎场\"|\"职场\"|\"商战\"|\"爱情\"|\"都市\"|\"胡歌\"|\"陈龙\"...\n",
       "description    Thanks for watching the drama! Help more peopl...\n",
       "Name: 12, dtype: object"
      ]
     },
     "execution_count": 24,
     "metadata": {},
     "output_type": "execute_result"
    }
   ],
   "source": [
    "df.iloc[0]"
   ]
  },
  {
   "cell_type": "code",
   "execution_count": null,
   "metadata": {},
   "outputs": [],
   "source": []
  }
 ],
 "metadata": {
  "kernelspec": {
   "display_name": "Python 3",
   "language": "python",
   "name": "python3"
  },
  "language_info": {
   "codemirror_mode": {
    "name": "ipython",
    "version": 3
   },
   "file_extension": ".py",
   "mimetype": "text/x-python",
   "name": "python",
   "nbconvert_exporter": "python",
   "pygments_lexer": "ipython3",
   "version": "3.7.4"
  }
 },
 "nbformat": 4,
 "nbformat_minor": 4
}
